{
 "cells": [
  {
   "cell_type": "markdown",
   "metadata": {},
   "source": [
    "# WeatherPy\n",
    "----\n",
    "\n",
    "#### Note\n",
    "* Instructions have been included for each segment. You do not have to follow them exactly, but they are included to help you think through the steps."
   ]
  },
  {
   "cell_type": "code",
   "execution_count": 5,
   "metadata": {
    "scrolled": true
   },
   "outputs": [],
   "source": [
    "# Dependencies and Setup\n",
    "import matplotlib.pyplot as plt\n",
    "import pandas as pd\n",
    "import numpy as np\n",
    "import requests\n",
    "import time\n",
    "import json\n",
    "from scipy.stats import linregress\n",
    "\n",
    "# Import API key\n",
    "from api_keys import weather_api_key\n",
    "\n",
    "# Incorporated citipy to determine city based on latitude and longitude\n",
    "from citipy import citipy\n",
    "\n",
    "# Output File (CSV)\n",
    "output_data_file = \"../output_data/city_data.csv\"\n",
    "\n",
    "# Range of latitudes and longitudes\n",
    "lat_range = (-90, 90)\n",
    "lng_range = (-180, 180)"
   ]
  },
  {
   "cell_type": "markdown",
   "metadata": {},
   "source": [
    "## Generate Cities List"
   ]
  },
  {
   "cell_type": "code",
   "execution_count": 6,
   "metadata": {},
   "outputs": [
    {
     "data": {
      "text/plain": [
       "['vaini',\n",
       " 'bluff',\n",
       " 'east london',\n",
       " 'port hardy',\n",
       " 'carnarvon',\n",
       " 'sal rei',\n",
       " 'castleblayney',\n",
       " 'olafsvik',\n",
       " 'fukue',\n",
       " 'rio grande',\n",
       " 'ushuaia',\n",
       " 'arraial do cabo',\n",
       " 'new norfolk',\n",
       " 'grand river south east',\n",
       " 'nanortalik',\n",
       " 'thompson',\n",
       " 'buraydah',\n",
       " 'severo-kurilsk',\n",
       " 'opuwo',\n",
       " 'albany',\n",
       " 'kavaratti',\n",
       " 'bonito',\n",
       " 'puerto ayora',\n",
       " 'nanakuli',\n",
       " 'seljord',\n",
       " 'paragominas',\n",
       " 'saskylakh',\n",
       " 'mataura',\n",
       " 'taolanaro',\n",
       " 'srednekolymsk',\n",
       " 'flinders',\n",
       " 'cherskiy',\n",
       " 'beringovskiy',\n",
       " 'cidreira',\n",
       " 'hobart',\n",
       " 'ribeira grande',\n",
       " 'horta',\n",
       " 'kapaa',\n",
       " 'tuktoyaktuk',\n",
       " 'punta arenas',\n",
       " 'gantt',\n",
       " 'west hartford',\n",
       " 'yellowknife',\n",
       " 'rikitea',\n",
       " 'hilo',\n",
       " 'bambous virieux',\n",
       " 'chuy',\n",
       " 'berlevag',\n",
       " 'georgetown',\n",
       " 'port alfred',\n",
       " 'dakar',\n",
       " 'gorno-chuyskiy',\n",
       " 'cabo san lucas',\n",
       " 'dikson',\n",
       " 'vila velha',\n",
       " 'airai',\n",
       " 'yulara',\n",
       " 'itoman',\n",
       " 'mar del plata',\n",
       " 'tasiilaq',\n",
       " 'klaksvik',\n",
       " 'ingham',\n",
       " 'kokstad',\n",
       " 'penha',\n",
       " 'scarborough',\n",
       " 'tabiauea',\n",
       " 'vila franca do campo',\n",
       " 'grindavik',\n",
       " 'adeje',\n",
       " 'amderma',\n",
       " 'mantua',\n",
       " 'atuona',\n",
       " 'kipini',\n",
       " 'mayumba',\n",
       " 'ponta do sol',\n",
       " 'beruwala',\n",
       " 'puerto quijarro',\n",
       " 'mahebourg',\n",
       " 'busselton',\n",
       " 'swift current',\n",
       " 'hermanus',\n",
       " 'qaanaaq',\n",
       " 'kulhudhuffushi',\n",
       " 'itarema',\n",
       " 'nsanje',\n",
       " 'rawson',\n",
       " 'moose factory',\n",
       " 'kruisfontein',\n",
       " 'barentsburg',\n",
       " 'takoradi',\n",
       " 'butaritari',\n",
       " 'vanavara',\n",
       " 'kirakira',\n",
       " 'cuxhaven',\n",
       " 'graaff-reinet',\n",
       " 'mataram',\n",
       " 'usinsk',\n",
       " 'ostrovnoy',\n",
       " 'port elizabeth',\n",
       " 'fortuna',\n",
       " 'constitucion',\n",
       " 'san ramon',\n",
       " 'codrington',\n",
       " 'mys shmidta',\n",
       " 'ammon',\n",
       " 'abu dhabi',\n",
       " 'rawannawi',\n",
       " 'norman wells',\n",
       " 'mercedes',\n",
       " 'buon me thuot',\n",
       " 'cape town',\n",
       " 'springfield',\n",
       " 'ust-maya',\n",
       " 'bengkulu',\n",
       " 'bargal',\n",
       " 'novopokrovka',\n",
       " 'mandali',\n",
       " 'hasaki',\n",
       " 'ko samui',\n",
       " 'saint-augustin',\n",
       " 'vaitupu',\n",
       " 'nishihara',\n",
       " 'shelburne',\n",
       " 'lipin bor',\n",
       " 'manjeri',\n",
       " 'kodiak',\n",
       " 'barrow',\n",
       " 'dire',\n",
       " 'busembatia',\n",
       " 'christchurch',\n",
       " 'kindu',\n",
       " 'sao filipe',\n",
       " 'kuryk',\n",
       " 'los llanos de aridane',\n",
       " 'flin flon',\n",
       " 'avera',\n",
       " 'pokrovsk',\n",
       " 'sorland',\n",
       " 'halifax',\n",
       " 'benguela',\n",
       " 'dongsheng',\n",
       " 'buala',\n",
       " 'barbar',\n",
       " 'illoqqortoormiut',\n",
       " 'tamale',\n",
       " 'aksarka',\n",
       " 'tual',\n",
       " 'lasa',\n",
       " 'patharia',\n",
       " 'khatanga',\n",
       " 'faanui',\n",
       " 'villamar',\n",
       " 'ancud',\n",
       " 'capreol',\n",
       " 'camabatela',\n",
       " 'big spring',\n",
       " 'bereda',\n",
       " 'leningradskiy',\n",
       " 'alzamay',\n",
       " 'pangnirtung',\n",
       " 'miramar',\n",
       " 'orumiyeh',\n",
       " 'torbay',\n",
       " 'jahrom',\n",
       " 'avarua',\n",
       " 'caravelas',\n",
       " 'saldanha',\n",
       " 'okato',\n",
       " 'seoul',\n",
       " 'talnakh',\n",
       " 'husavik',\n",
       " 'saint-pierre',\n",
       " 'esperance',\n",
       " 'dinghai',\n",
       " 'vieste',\n",
       " 'sao joao da barra',\n",
       " 'fort nelson',\n",
       " 'lixourion',\n",
       " 'hirtshals',\n",
       " 'ilulissat',\n",
       " 'great yarmouth',\n",
       " 'viedma',\n",
       " 'casablanca',\n",
       " 'tumannyy',\n",
       " 'kitimat',\n",
       " 'bredasdorp',\n",
       " 'riyadh',\n",
       " 'belushya guba',\n",
       " 'port shepstone',\n",
       " 'provideniya',\n",
       " 'bandar-e lengeh',\n",
       " 'chopinzinho',\n",
       " 'santiago del estero',\n",
       " 'chapais',\n",
       " 'longyearbyen',\n",
       " 'upernavik',\n",
       " 'enshi',\n",
       " 'ashcroft',\n",
       " 'whitehorse',\n",
       " 'doctor pedro p. pena',\n",
       " 'winnemucca',\n",
       " 'shitanjing',\n",
       " 'saint-philippe',\n",
       " 'mach',\n",
       " 'karaj',\n",
       " 'salinas',\n",
       " 'jamestown',\n",
       " 'la ronge',\n",
       " 'talcahuano',\n",
       " 'lorengau',\n",
       " 'mulege',\n",
       " 'hengyang',\n",
       " 'bireun',\n",
       " 'nikolskoye',\n",
       " 'puerto escondido',\n",
       " 'salalah',\n",
       " 'oranjemund',\n",
       " 'la rioja',\n",
       " 'mananara',\n",
       " 'thaton',\n",
       " 'koumac',\n",
       " 'phan thiet',\n",
       " 'saint-raphael',\n",
       " 'huanuco',\n",
       " 'karkaralinsk',\n",
       " 'tsihombe',\n",
       " 'coquimbo',\n",
       " 'narsaq',\n",
       " 'buchanan',\n",
       " 'guasdualito',\n",
       " 'bullhead city',\n",
       " 'hithadhoo',\n",
       " 'inuvik',\n",
       " 'khargapur',\n",
       " 'sentyabrskiy',\n",
       " 'alofi',\n",
       " 'yar-sale',\n",
       " 'camacha',\n",
       " 'santa isabel do rio negro',\n",
       " 'kodinsk',\n",
       " 'pevek',\n",
       " 'kavieng',\n",
       " 'vaitape',\n",
       " 'beaupre',\n",
       " 'namibe',\n",
       " 'tuatapere',\n",
       " 'ngaoundere',\n",
       " 'alyangula',\n",
       " 'boa vista',\n",
       " 'general roca',\n",
       " 'tiksi',\n",
       " 'victoria',\n",
       " 'umzimvubu',\n",
       " 'namuac',\n",
       " 'fez',\n",
       " 'tjome',\n",
       " 'bambanglipuro',\n",
       " 'bethel',\n",
       " 'touros',\n",
       " 'iralaya',\n",
       " 'kerema',\n",
       " 'acapulco',\n",
       " 'chokurdakh',\n",
       " 'peleduy',\n",
       " 'folldal',\n",
       " 'preston',\n",
       " 'goderich',\n",
       " 'saint-michel-des-saints',\n",
       " 'paamiut',\n",
       " 'byron bay',\n",
       " 'tagusao',\n",
       " 'bolungarvik',\n",
       " 'atlantis',\n",
       " 'jatiroto',\n",
       " 'labutta',\n",
       " 'imbituba',\n",
       " 'sorvag',\n",
       " 'ailigandi',\n",
       " 'sterling',\n",
       " 'saint-marc',\n",
       " 'necochea',\n",
       " 'mukhen',\n",
       " 'patacamaya',\n",
       " 'juneau',\n",
       " 'sakakah',\n",
       " 'baykit',\n",
       " 'lebu',\n",
       " 'alexandria',\n",
       " 'ksenyevka',\n",
       " 'nemuro',\n",
       " 'jiazi',\n",
       " 'teguldet',\n",
       " 'kamenka',\n",
       " 'wah',\n",
       " 'unye',\n",
       " 'mildura',\n",
       " 'lagoa',\n",
       " 'isangel',\n",
       " 'qingquan',\n",
       " 'egvekinot',\n",
       " 'clyde river',\n",
       " 'ranong',\n",
       " 'pisco',\n",
       " 'chumikan',\n",
       " 'alta floresta',\n",
       " 'saint-francois',\n",
       " 'alekseyevsk',\n",
       " 'sambava',\n",
       " 'corralillo',\n",
       " 'burica',\n",
       " 'yaan',\n",
       " 'maniitsoq',\n",
       " 'clinton',\n",
       " 'buin',\n",
       " 'san cristobal',\n",
       " 'sao jose da coroa grande',\n",
       " 'tessalit',\n",
       " 'benoy',\n",
       " 'pacatuba',\n",
       " 'nome',\n",
       " 'martinopolis',\n",
       " 'sur',\n",
       " 'cam pha',\n",
       " 'vardo',\n",
       " 'tulu bolo',\n",
       " 'kahului',\n",
       " 'seydi',\n",
       " 'castro',\n",
       " 'nizhneyansk',\n",
       " 'lufilufi',\n",
       " 'sabzevar',\n",
       " 'elat',\n",
       " 'cap-aux-meules',\n",
       " 'port augusta',\n",
       " 'comodoro rivadavia',\n",
       " 'peniche',\n",
       " 'lesnoy',\n",
       " 'beloha',\n",
       " 'pochutla',\n",
       " 'mocuba',\n",
       " 'contamana',\n",
       " 'sola',\n",
       " 'tiznit',\n",
       " 'akureyri',\n",
       " 'ixtapa',\n",
       " 'tunduru',\n",
       " 'yumen',\n",
       " 'pandan',\n",
       " 'beira',\n",
       " 'yuty',\n",
       " 'cozumel',\n",
       " 'kinablangan',\n",
       " 'kakching',\n",
       " 'palauig',\n",
       " 'sibu',\n",
       " 'terre-de-bas',\n",
       " 'sapele',\n",
       " 'derzhavinsk',\n",
       " 'deniliquin',\n",
       " 'alice springs',\n",
       " 'sitka',\n",
       " 'yola',\n",
       " 'mahajanga',\n",
       " 'baton rouge',\n",
       " 'marystown',\n",
       " 'brae',\n",
       " 'galbshtadt',\n",
       " 'lyubinskiy',\n",
       " 'port hawkesbury',\n",
       " 'shahpura',\n",
       " 'souillac',\n",
       " 'kloulklubed',\n",
       " 'dunmore town',\n",
       " 'lata',\n",
       " 'teeli',\n",
       " 'bella union',\n",
       " 'westport',\n",
       " 'valle de allende',\n",
       " 'ulladulla',\n",
       " 'katobu',\n",
       " 'samusu',\n",
       " 'kashi',\n",
       " 'aykhal',\n",
       " 'ambon',\n",
       " 'rorvik',\n",
       " 'salaga',\n",
       " 'khandyga',\n",
       " 'kijang',\n",
       " 'sabang',\n",
       " 'somotillo',\n",
       " 'kawalu',\n",
       " 'morehead',\n",
       " 'yenagoa',\n",
       " 'pretoria',\n",
       " 'pindorama',\n",
       " 'erzin',\n",
       " 'biak',\n",
       " 'kuche',\n",
       " 'carutapera',\n",
       " 'fredericksburg',\n",
       " 'porto novo',\n",
       " 'fairbanks',\n",
       " 'havre-saint-pierre',\n",
       " 'gigmoto',\n",
       " 'amapa',\n",
       " 'key largo',\n",
       " 'manokwari',\n",
       " 'baruun-urt',\n",
       " 'karratha',\n",
       " 'lompoc',\n",
       " 'arona',\n",
       " 'lazaro cardenas',\n",
       " 'hambantota',\n",
       " 'richards bay',\n",
       " 'sisimiut',\n",
       " 'prado',\n",
       " 'senneterre',\n",
       " 'dabola',\n",
       " 'saint-joseph',\n",
       " 'saint george',\n",
       " 'zhezkazgan',\n",
       " 'kaitangata',\n",
       " 'estelle',\n",
       " 'payson',\n",
       " 'umm ruwabah',\n",
       " 'harper',\n",
       " 'acajutla',\n",
       " 'parras',\n",
       " 'kalianget',\n",
       " 'kununurra',\n",
       " 'ichinohe',\n",
       " 'ridgecrest',\n",
       " 'boiro',\n",
       " 'sept-iles',\n",
       " 'kokopo',\n",
       " 'bartica',\n",
       " 'tangancicuaro',\n",
       " 'mao',\n",
       " 'stillwater',\n",
       " 'asau',\n",
       " 'qandala',\n",
       " 'cabatuan',\n",
       " 'konstantinovka',\n",
       " 'lapeer',\n",
       " 'tomatlan',\n",
       " 'taunggyi',\n",
       " 'tsentralnyy',\n",
       " 'santiago',\n",
       " 'ahipara',\n",
       " 'raga',\n",
       " 'esmeraldas',\n",
       " 'iqaluit',\n",
       " 'bilma',\n",
       " 'pacifica',\n",
       " 'hami',\n",
       " 'mitu',\n",
       " 'mount gambier',\n",
       " 'tautira',\n",
       " 'asmara',\n",
       " 'zhangye',\n",
       " 'kabare',\n",
       " 'rocha',\n",
       " 'duz',\n",
       " 'merauke',\n",
       " 'itum-kale',\n",
       " 'dongning',\n",
       " 'dingle',\n",
       " 'russell',\n",
       " 'mussomeli',\n",
       " 'attawapiskat',\n",
       " 'pekalongan',\n",
       " 'srikakulam',\n",
       " 'praia da vitoria',\n",
       " 'jaguarari',\n",
       " 'vestmannaeyjar',\n",
       " 'yunjinghong',\n",
       " 'tura',\n",
       " 'cockburn town',\n",
       " 'vila',\n",
       " 'severobaykalsk',\n",
       " 'spencer',\n",
       " 'huarmey',\n",
       " 'padang',\n",
       " 'san patricio',\n",
       " 'el badari',\n",
       " 'lyngseidet',\n",
       " 'tungkang',\n",
       " 'vestmanna',\n",
       " 'cravo norte',\n",
       " 'el faiyum',\n",
       " 'jalu',\n",
       " 'haines junction',\n",
       " 'le port',\n",
       " 'honiara',\n",
       " 'mwense',\n",
       " 'kamaishi',\n",
       " 'linxia',\n",
       " 'durango',\n",
       " 'voh',\n",
       " 'palmer',\n",
       " 'gresham',\n",
       " 'palu',\n",
       " 'salina',\n",
       " 'trelew',\n",
       " 'lavrentiya',\n",
       " 'sao felix do xingu',\n",
       " 'berdigestyakh',\n",
       " 'teguise',\n",
       " 'kangaatsiaq',\n",
       " 'mount isa',\n",
       " 'ligayan',\n",
       " 'meulaboh',\n",
       " 'jinxiang',\n",
       " 'hrodna',\n",
       " 'kachug',\n",
       " 'tucuman',\n",
       " 'aketi',\n",
       " 'gizo',\n",
       " 'senanga',\n",
       " 'bentiu',\n",
       " 'ituni',\n",
       " 'tucupita',\n",
       " 'meyungs',\n",
       " 'dalby',\n",
       " 'ginir',\n",
       " 'plettenberg bay',\n",
       " 'chekhov',\n",
       " 'bathsheba',\n",
       " 'pitanga',\n",
       " 'yirol',\n",
       " 'almeirim',\n",
       " 'kozloduj',\n",
       " 'dunedin',\n",
       " 'kaeo',\n",
       " 'pelym',\n",
       " 'ornskoldsvik',\n",
       " 'aklavik',\n",
       " 'khingansk',\n",
       " 'zemetchino',\n",
       " 'rajkot',\n",
       " 'livingston',\n",
       " 'angoche',\n",
       " 'walvis bay',\n",
       " 'emerald',\n",
       " 'luderitz',\n",
       " 'labytnangi',\n",
       " 'eyrarbakki',\n",
       " 'hamilton',\n",
       " 'wenling',\n",
       " 'kamenskoye',\n",
       " 'tadine',\n",
       " 'raichur',\n",
       " 'toamasina',\n",
       " 'carahue',\n",
       " 'nedjo',\n",
       " 'zhanaozen',\n",
       " 'quatre cocos',\n",
       " 'maceio',\n",
       " 'brigantine',\n",
       " 'port-gentil',\n",
       " 'punta gorda',\n",
       " 'andenes',\n",
       " 'kalabo',\n",
       " 'harlingen',\n",
       " 'kharp',\n",
       " 'zawadzkie',\n",
       " 'sobolevo',\n",
       " 'umm lajj',\n",
       " 'tias',\n",
       " 'magadan',\n",
       " 'kirkwall',\n",
       " 'liverpool',\n",
       " 'ondorhaan',\n",
       " 'andahuaylas',\n",
       " 'portland',\n",
       " 'samarai',\n",
       " 'umm kaddadah',\n",
       " 'oppdal',\n",
       " 'hanstholm',\n",
       " 'marsa matruh',\n",
       " 'akdepe',\n",
       " 'tingrela',\n",
       " 'roma',\n",
       " 'banda aceh',\n",
       " 'saquarema',\n",
       " 'odessa',\n",
       " 'zaysan',\n",
       " 'the valley',\n",
       " 'fuling',\n",
       " 'kota tinggi',\n",
       " 'namatanai',\n",
       " 'zhigansk',\n",
       " 'yuryuzan']"
      ]
     },
     "metadata": {},
     "output_type": "display_data"
    }
   ],
   "source": [
    "# List for holding lat_lngs and cities\n",
    "lat_lngs = []\n",
    "cities = []\n",
    "\n",
    "# Create a set of random lat and lng combinations\n",
    "lats = np.random.uniform(lat_range[0], lat_range[1], size=1500)\n",
    "lngs = np.random.uniform(lng_range[0], lng_range[1], size=1500)\n",
    "lat_lngs = zip(lats, lngs)\n",
    "\n",
    "# Identify nearest city for each lat, lng combination\n",
    "for lat_lng in lat_lngs:\n",
    "    city = citipy.nearest_city(lat_lng[0], lat_lng[1]).city_name\n",
    "    \n",
    "    # If the city is unique, then add it to a our cities list\n",
    "    if city not in cities:\n",
    "        cities.append(city)\n",
    "\n",
    "# Print the city count to confirm sufficient count\n",
    "display(cities)"
   ]
  },
  {
   "cell_type": "markdown",
   "metadata": {},
   "source": [
    "### Perform API Calls\n",
    "* Perform a weather check on each city using a series of successive API calls.\n",
    "* Include a print log of each city as it'sbeing processed (with the city number and city name).\n"
   ]
  },
  {
   "cell_type": "code",
   "execution_count": 7,
   "metadata": {
    "scrolled": true
   },
   "outputs": [
    {
     "data": {
      "text/plain": [
       "[[4032243, 'Vaini', -21.2, -175.2, 25.640000000000043, 85, 76, 5.33]]"
      ]
     },
     "metadata": {},
     "output_type": "display_data"
    },
    {
     "data": {
      "text/plain": [
       "[[2206939, 'Bluff', -46.6, 168.3333, 9.890000000000043, 90, 100, 10.09]]"
      ]
     },
     "metadata": {},
     "output_type": "display_data"
    },
    {
     "data": {
      "text/plain": [
       "[[1006984, 'East London', -33.0153, 27.9116, 14.439999999999998, 82, 67, 5.93]]"
      ]
     },
     "metadata": {},
     "output_type": "display_data"
    },
    {
     "data": {
      "text/plain": [
       "[[6111862, 'Port Hardy', 50.6996, -127.4199, 11.430000000000007, 77, 99, 2.62]]"
      ]
     },
     "metadata": {},
     "output_type": "display_data"
    },
    {
     "data": {
      "text/plain": [
       "[[2074865, 'Carnarvon', -24.8667, 113.6333, 22.04000000000002, 68, 40, 6.17]]"
      ]
     },
     "metadata": {},
     "output_type": "display_data"
    },
    {
     "data": {
      "text/plain": [
       "[[3374235, 'Sal Rei', 16.1833, -22.9167, 21.310000000000002, 82, 86, 7.58]]"
      ]
     },
     "metadata": {},
     "output_type": "display_data"
    },
    {
     "data": {
      "text/plain": [
       "[[2965649, 'Castleblayney', 54.1167, -6.7333, 9.340000000000032, 93, 25, 1.42]]"
      ]
     },
     "metadata": {},
     "output_type": "display_data"
    },
    {
     "data": {
      "text/plain": [
       "[[3414079, 'Olafsvik', 64.8945, -23.7142, 7.770000000000039, 95, 100, 10.89]]"
      ]
     },
     "metadata": {},
     "output_type": "display_data"
    },
    {
     "data": {
      "text/plain": [
       "[[1863997, 'Fukuechō', 32.6881, 128.8419, 25.200000000000045, 44, 0, 3.09]]"
      ]
     },
     "metadata": {},
     "output_type": "display_data"
    },
    {
     "data": {
      "text/plain": [
       "[[3451138, 'Rio Grande', -32.035, -52.0986, 4.970000000000027, 73, 1, 5.62]]"
      ]
     },
     "metadata": {},
     "output_type": "display_data"
    },
    {
     "data": {
      "text/plain": [
       "[[3833367, 'Ushuaia', -54.8, -68.3, -4.7099999999999795, 96, 96, 1.68]]"
      ]
     },
     "metadata": {},
     "output_type": "display_data"
    },
    {
     "data": {
      "text/plain": [
       "[[3471451,\n",
       "  'Arraial do Cabo',\n",
       "  -22.9661,\n",
       "  -42.0278,\n",
       "  23.930000000000007,\n",
       "  84,\n",
       "  45,\n",
       "  1.94]]"
      ]
     },
     "metadata": {},
     "output_type": "display_data"
    },
    {
     "data": {
      "text/plain": [
       "[[2155415, 'New Norfolk', -42.7826, 147.0587, 12.0, 51, 3, 0.87]]"
      ]
     },
     "metadata": {},
     "output_type": "display_data"
    },
    {
     "name": "stdout",
     "output_type": "stream",
     "text": [
      "Missing field/result... skipping.\n"
     ]
    },
    {
     "data": {
      "text/plain": [
       "[[3421765, 'Nanortalik', 60.1432, -45.2371, 1.4800000000000182, 99, 100, 3.4]]"
      ]
     },
     "metadata": {},
     "output_type": "display_data"
    },
    {
     "data": {
      "text/plain": [
       "[[6165406, 'Thompson', 55.7435, -97.8558, 6.090000000000032, 93, 90, 5.66]]"
      ]
     },
     "metadata": {},
     "output_type": "display_data"
    },
    {
     "data": {
      "text/plain": [
       "[[107304, 'Buraidah', 26.326, 43.975, 35.26000000000005, 10, 0, 2.13]]"
      ]
     },
     "metadata": {},
     "output_type": "display_data"
    },
    {
     "data": {
      "text/plain": [
       "[[2121385,\n",
       "  \"Severo-Kuril'sk\",\n",
       "  50.6789,\n",
       "  156.125,\n",
       "  5.260000000000048,\n",
       "  90,\n",
       "  100,\n",
       "  4.86]]"
      ]
     },
     "metadata": {},
     "output_type": "display_data"
    },
    {
     "data": {
      "text/plain": [
       "[[3354077, 'Opuwo', -18.0607, 13.84, 13.140000000000043, 35, 3, 2.32]]"
      ]
     },
     "metadata": {},
     "output_type": "display_data"
    },
    {
     "data": {
      "text/plain": [
       "[[5106841, 'Albany', 42.6001, -73.9662, 7.670000000000016, 84, 100, 0.17]]"
      ]
     },
     "metadata": {},
     "output_type": "display_data"
    },
    {
     "data": {
      "text/plain": [
       "[[1267390, 'Kavaratti', 10.5669, 72.642, 28.629999999999995, 75, 100, 8.17]]"
      ]
     },
     "metadata": {},
     "output_type": "display_data"
    },
    {
     "data": {
      "text/plain": [
       "[[3469294, 'Bonito', -21.1211, -56.4819, 22.920000000000016, 65, 100, 0.67]]"
      ]
     },
     "metadata": {},
     "output_type": "display_data"
    },
    {
     "data": {
      "text/plain": [
       "[[3652764, 'Puerto Ayora', -0.7393, -90.3518, 23.08000000000004, 89, 26, 1.79]]"
      ]
     },
     "metadata": {},
     "output_type": "display_data"
    },
    {
     "data": {
      "text/plain": [
       "[[5851349, 'Nānākuli', 21.3906, -158.1547, 25.680000000000007, 69, 1, 1.94]]"
      ]
     },
     "metadata": {},
     "output_type": "display_data"
    },
    {
     "data": {
      "text/plain": [
       "[[3139894, 'Seljord', 59.4894, 8.634, 18.150000000000034, 56, 6, 1.01]]"
      ]
     },
     "metadata": {},
     "output_type": "display_data"
    },
    {
     "data": {
      "text/plain": [
       "[[3393106, 'Paragominas', -2.9667, -47.4833, 22.53000000000003, 89, 60, 0.93]]"
      ]
     },
     "metadata": {},
     "output_type": "display_data"
    },
    {
     "data": {
      "text/plain": [
       "[[2017155, 'Saskylakh', 71.9167, 114.0833, 5.03000000000003, 82, 38, 3.94]]"
      ]
     },
     "metadata": {},
     "output_type": "display_data"
    },
    {
     "data": {
      "text/plain": [
       "[[6201424, 'Mataura', -46.1927, 168.8643, 9.710000000000036, 97, 100, 2.67]]"
      ]
     },
     "metadata": {},
     "output_type": "display_data"
    },
    {
     "name": "stdout",
     "output_type": "stream",
     "text": [
      "Missing field/result... skipping.\n"
     ]
    },
    {
     "data": {
      "text/plain": [
       "[[2121025, 'Srednekolymsk', 67.45, 153.6833, 17.939999999999998, 26, 35, 5.67]]"
      ]
     },
     "metadata": {},
     "output_type": "display_data"
    },
    {
     "data": {
      "text/plain": [
       "[[6255012, 'Flinders', -34.5833, 150.8552, 16.730000000000018, 61, 85, 2.24]]"
      ]
     },
     "metadata": {},
     "output_type": "display_data"
    },
    {
     "data": {
      "text/plain": [
       "[[2126199, 'Cherskiy', 68.75, 161.3, 16.57000000000005, 31, 83, 4.4]]"
      ]
     },
     "metadata": {},
     "output_type": "display_data"
    },
    {
     "data": {
      "text/plain": [
       "[[2126710, 'Beringovskiy', 63.05, 179.3167, 1.7000000000000455, 78, 11, 3.65]]"
      ]
     },
     "metadata": {},
     "output_type": "display_data"
    },
    {
     "data": {
      "text/plain": [
       "[[3466165, 'Cidreira', -30.1811, -50.2056, 12.150000000000034, 70, 11, 4.3]]"
      ]
     },
     "metadata": {},
     "output_type": "display_data"
    },
    {
     "data": {
      "text/plain": [
       "[[2163355, 'Hobart', -42.8794, 147.3294, 12.450000000000045, 66, 75, 0.45]]"
      ]
     },
     "metadata": {},
     "output_type": "display_data"
    },
    {
     "data": {
      "text/plain": [
       "[[3372707,\n",
       "  'Ribeira Grande',\n",
       "  38.5167,\n",
       "  -28.7,\n",
       "  17.760000000000048,\n",
       "  77,\n",
       "  100,\n",
       "  2.66]]"
      ]
     },
     "metadata": {},
     "output_type": "display_data"
    },
    {
     "data": {
      "text/plain": [
       "[[3372988, 'Horta', 38.5333, -28.6333, 17.230000000000018, 78, 100, 2.78]]"
      ]
     },
     "metadata": {},
     "output_type": "display_data"
    },
    {
     "data": {
      "text/plain": [
       "[[5848280, 'Kapaa', 22.0752, -159.319, 25.200000000000045, 70, 90, 2.71]]"
      ]
     },
     "metadata": {},
     "output_type": "display_data"
    },
    {
     "data": {
      "text/plain": [
       "[[6170031,\n",
       "  'Tuktoyaktuk',\n",
       "  69.4541,\n",
       "  -133.0374,\n",
       "  -0.3100000000000023,\n",
       "  86,\n",
       "  42,\n",
       "  2.72]]"
      ]
     },
     "metadata": {},
     "output_type": "display_data"
    },
    {
     "data": {
      "text/plain": [
       "[[3874787,\n",
       "  'Punta Arenas',\n",
       "  -53.15,\n",
       "  -70.9167,\n",
       "  0.060000000000002274,\n",
       "  74,\n",
       "  40,\n",
       "  5.3]]"
      ]
     },
     "metadata": {},
     "output_type": "display_data"
    },
    {
     "data": {
      "text/plain": [
       "[[4579484, 'Gantt', 34.8001, -82.4243, 16.860000000000014, 73, 90, 4.12]]"
      ]
     },
     "metadata": {},
     "output_type": "display_data"
    },
    {
     "data": {
      "text/plain": [
       "[[4845411, 'West Hartford', 41.762, -72.742, 7.900000000000034, 84, 90, 0.45]]"
      ]
     },
     "metadata": {},
     "output_type": "display_data"
    },
    {
     "data": {
      "text/plain": [
       "[[6185377, 'Yellowknife', 62.456, -114.3525, 7.400000000000034, 52, 72, 2.24]]"
      ]
     },
     "metadata": {},
     "output_type": "display_data"
    },
    {
     "data": {
      "text/plain": [
       "[[4030556, 'Rikitea', -23.1203, -134.9692, 24.57000000000005, 86, 100, 11.47]]"
      ]
     },
     "metadata": {},
     "output_type": "display_data"
    },
    {
     "data": {
      "text/plain": [
       "[[5855927, 'Hilo', 19.7297, -155.09, 23.430000000000007, 88, 75, 3.6]]"
      ]
     },
     "metadata": {},
     "output_type": "display_data"
    },
    {
     "data": {
      "text/plain": [
       "[[1106677,\n",
       "  'Bambous Virieux',\n",
       "  -20.3428,\n",
       "  57.7575,\n",
       "  25.680000000000007,\n",
       "  75,\n",
       "  42,\n",
       "  4.1]]"
      ]
     },
     "metadata": {},
     "output_type": "display_data"
    },
    {
     "data": {
      "text/plain": [
       "[[3443061, 'Chui', -33.6971, -53.4616, 5.310000000000002, 68, 48, 4.27]]"
      ]
     },
     "metadata": {},
     "output_type": "display_data"
    },
    {
     "data": {
      "text/plain": [
       "[[780687, 'Berlevåg', 70.8578, 29.0864, 4.980000000000018, 87, 100, 12.55]]"
      ]
     },
     "metadata": {},
     "output_type": "display_data"
    },
    {
     "data": {
      "text/plain": [
       "[[1735106, 'George Town', 5.4112, 100.3354, 31.960000000000036, 70, 20, 2.06]]"
      ]
     },
     "metadata": {},
     "output_type": "display_data"
    },
    {
     "data": {
      "text/plain": [
       "[[964432, 'Port Alfred', -33.5906, 26.891, 14.200000000000045, 79, 86, 4.51]]"
      ]
     },
     "metadata": {},
     "output_type": "display_data"
    },
    {
     "data": {
      "text/plain": [
       "[[2253354, 'Dakar', 14.6937, -17.4441, 20.49000000000001, 86, 24, 5.34]]"
      ]
     },
     "metadata": {},
     "output_type": "display_data"
    },
    {
     "name": "stdout",
     "output_type": "stream",
     "text": [
      "Missing field/result... skipping.\n"
     ]
    },
    {
     "data": {
      "text/plain": [
       "[[3985710,\n",
       "  'Cabo San Lucas',\n",
       "  22.8909,\n",
       "  -109.9124,\n",
       "  26.400000000000034,\n",
       "  64,\n",
       "  75,\n",
       "  7.69]]"
      ]
     },
     "metadata": {},
     "output_type": "display_data"
    },
    {
     "data": {
      "text/plain": [
       "[[1507390, 'Dikson', 73.5069, 80.5464, -1.2199999999999704, 82, 81, 2.89]]"
      ]
     },
     "metadata": {},
     "output_type": "display_data"
    },
    {
     "data": {
      "text/plain": [
       "[[3445026, 'Vila Velha', -20.3297, -40.2925, 23.620000000000005, 91, 0, 1.34]]"
      ]
     },
     "metadata": {},
     "output_type": "display_data"
    },
    {
     "data": {
      "text/plain": [
       "[[1651810, 'Airai', -8.9266, 125.4092, 22.430000000000007, 57, 92, 1.02]]"
      ]
     },
     "metadata": {},
     "output_type": "display_data"
    },
    {
     "data": {
      "text/plain": [
       "[[6355222, 'Yulara', -25.2406, 130.9889, 19.910000000000025, 28, 87, 4.63]]"
      ]
     },
     "metadata": {},
     "output_type": "display_data"
    },
    {
     "data": {
      "text/plain": [
       "[[1861280, 'Itoman', 26.1247, 127.6694, 23.010000000000048, 94, 75, 4.12]]"
      ]
     },
     "metadata": {},
     "output_type": "display_data"
    },
    {
     "data": {
      "text/plain": [
       "[[3430863,\n",
       "  'Mar del Plata',\n",
       "  -38.0023,\n",
       "  -57.5575,\n",
       "  6.730000000000018,\n",
       "  61,\n",
       "  12,\n",
       "  5.36]]"
      ]
     },
     "metadata": {},
     "output_type": "display_data"
    },
    {
     "data": {
      "text/plain": [
       "[[3424607, 'Tasiilaq', 65.6145, -37.6368, 3.090000000000032, 98, 100, 8.31]]"
      ]
     },
     "metadata": {},
     "output_type": "display_data"
    },
    {
     "data": {
      "text/plain": [
       "[[2618795, 'Klaksvík', 62.2266, -6.589, 7.510000000000048, 85, 95, 5.59]]"
      ]
     },
     "metadata": {},
     "output_type": "display_data"
    },
    {
     "data": {
      "text/plain": [
       "[[4997130, 'Ingham', 42.6, -84.3833, 5.430000000000007, 72, 1, 0]]"
      ]
     },
     "metadata": {},
     "output_type": "display_data"
    },
    {
     "data": {
      "text/plain": [
       "[[988356, 'Kokstad', -30.5472, 29.4241, 3.170000000000016, 81, 0, 1.84]]"
      ]
     },
     "metadata": {},
     "output_type": "display_data"
    },
    {
     "data": {
      "text/plain": [
       "[[3454213, 'Penha', -26.7694, -48.6458, 17.210000000000036, 93, 51, 2.95]]"
      ]
     },
     "metadata": {},
     "output_type": "display_data"
    },
    {
     "data": {
      "text/plain": [
       "[[2638419, 'Scarborough', 54.2797, -0.4044, 7.240000000000009, 91, 4, 0.9]]"
      ]
     },
     "metadata": {},
     "output_type": "display_data"
    },
    {
     "name": "stdout",
     "output_type": "stream",
     "text": [
      "Missing field/result... skipping.\n"
     ]
    },
    {
     "data": {
      "text/plain": [
       "[[3372472,\n",
       "  'Vila Franca do Campo',\n",
       "  37.7167,\n",
       "  -25.4333,\n",
       "  16.230000000000018,\n",
       "  86,\n",
       "  43,\n",
       "  2.9]]"
      ]
     },
     "metadata": {},
     "output_type": "display_data"
    },
    {
     "data": {
      "text/plain": [
       "[[3416888, 'Grindavik', 63.8424, -22.4338, 8.430000000000007, 100, 90, 12.89]]"
      ]
     },
     "metadata": {},
     "output_type": "display_data"
    },
    {
     "data": {
      "text/plain": [
       "[[2522437, 'Adeje', 28.1227, -16.726, 16.58000000000004, 70, 20, 1.79]]"
      ]
     },
     "metadata": {},
     "output_type": "display_data"
    },
    {
     "name": "stdout",
     "output_type": "stream",
     "text": [
      "Missing field/result... skipping.\n"
     ]
    },
    {
     "data": {
      "text/plain": [
       "[[3174050,\n",
       "  'Province of Mantua',\n",
       "  45.1667,\n",
       "  10.7833,\n",
       "  15.950000000000045,\n",
       "  75,\n",
       "  91,\n",
       "  1.34]]"
      ]
     },
     "metadata": {},
     "output_type": "display_data"
    },
    {
     "data": {
      "text/plain": [
       "[[4020109, 'Atuona', -9.8, -139.0333, 26.29000000000002, 70, 34, 3.78]]"
      ]
     },
     "metadata": {},
     "output_type": "display_data"
    },
    {
     "data": {
      "text/plain": [
       "[[191675, 'Kipini', -2.5257, 40.5262, 26.650000000000034, 74, 9, 6.73]]"
      ]
     },
     "metadata": {},
     "output_type": "display_data"
    },
    {
     "data": {
      "text/plain": [
       "[[2399001, 'Mayumba', -3.432, 10.6554, 24.670000000000016, 91, 99, 3.14]]"
      ]
     },
     "metadata": {},
     "output_type": "display_data"
    },
    {
     "data": {
      "text/plain": [
       "[[2264557, 'Ponta do Sol', 32.6667, -17.1, 19.180000000000007, 75, 61, 2.86]]"
      ]
     },
     "metadata": {},
     "output_type": "display_data"
    },
    {
     "data": {
      "text/plain": [
       "[[1249931, 'Beruwala', 6.4788, 79.9828, 28.58000000000004, 80, 51, 6.3]]"
      ]
     },
     "metadata": {},
     "output_type": "display_data"
    },
    {
     "data": {
      "text/plain": [
       "[[3444201,\n",
       "  'Puerto Quijarro',\n",
       "  -17.7833,\n",
       "  -57.7667,\n",
       "  23.52000000000004,\n",
       "  56,\n",
       "  99,\n",
       "  0.66]]"
      ]
     },
     "metadata": {},
     "output_type": "display_data"
    },
    {
     "data": {
      "text/plain": [
       "[[934322, 'Mahébourg', -20.4081, 57.7, 25.700000000000045, 76, 28, 4.14]]"
      ]
     },
     "metadata": {},
     "output_type": "display_data"
    },
    {
     "data": {
      "text/plain": [
       "[[2075265, 'Busselton', -33.65, 115.3333, 14.470000000000027, 75, 71, 8.83]]"
      ]
     },
     "metadata": {},
     "output_type": "display_data"
    },
    {
     "data": {
      "text/plain": [
       "[[6160603,\n",
       "  'Swift Current',\n",
       "  50.2834,\n",
       "  -107.8014,\n",
       "  10.450000000000045,\n",
       "  53,\n",
       "  40,\n",
       "  2.57]]"
      ]
     },
     "metadata": {},
     "output_type": "display_data"
    },
    {
     "data": {
      "text/plain": [
       "[[3366880, 'Hermanus', -34.4187, 19.2345, 8.220000000000027, 80, 93, 1.92]]"
      ]
     },
     "metadata": {},
     "output_type": "display_data"
    },
    {
     "data": {
      "text/plain": [
       "[[3831208, 'Qaanaaq', 77.484, -69.3632, -1.9899999999999523, 91, 98, 1.19]]"
      ]
     },
     "metadata": {},
     "output_type": "display_data"
    },
    {
     "data": {
      "text/plain": [
       "[[1337613, 'Kulhudhuffushi', 6.6221, 73.07, 28.49000000000001, 70, 62, 8.83]]"
      ]
     },
     "metadata": {},
     "output_type": "display_data"
    },
    {
     "data": {
      "text/plain": [
       "[[3393692, 'Itarema', -2.9248, -39.9167, 24.189999999999998, 89, 15, 4.29]]"
      ]
     },
     "metadata": {},
     "output_type": "display_data"
    },
    {
     "data": {
      "text/plain": [
       "[[924572, 'Nsanje', -16.92, 35.262, 18.08000000000004, 50, 0, 0.33]]"
      ]
     },
     "metadata": {},
     "output_type": "display_data"
    },
    {
     "data": {
      "text/plain": [
       "[[3839307, 'Rawson', -43.3002, -65.1023, 5.220000000000027, 51, 0, 3.97]]"
      ]
     },
     "metadata": {},
     "output_type": "display_data"
    },
    {
     "data": {
      "text/plain": [
       "[[6078372,\n",
       "  'Moose Factory',\n",
       "  51.2585,\n",
       "  -80.6094,\n",
       "  11.990000000000009,\n",
       "  35,\n",
       "  1,\n",
       "  5.66]]"
      ]
     },
     "metadata": {},
     "output_type": "display_data"
    },
    {
     "data": {
      "text/plain": [
       "[[986717, 'Kruisfontein', -34.0033, 24.7314, 11.600000000000023, 89, 77, 1.31]]"
      ]
     },
     "metadata": {},
     "output_type": "display_data"
    },
    {
     "name": "stdout",
     "output_type": "stream",
     "text": [
      "Missing field/result... skipping.\n"
     ]
    },
    {
     "data": {
      "text/plain": [
       "[[2294915, 'Takoradze', 4.8845, -1.7554, 26.58000000000004, 84, 65, 3.11]]"
      ]
     },
     "metadata": {},
     "output_type": "display_data"
    },
    {
     "data": {
      "text/plain": [
       "[[2110227, 'Butaritari', 3.0707, 172.7902, 28.439999999999998, 78, 91, 6.89]]"
      ]
     },
     "metadata": {},
     "output_type": "display_data"
    },
    {
     "data": {
      "text/plain": [
       "[[2013727, 'Vanavara', 60.34, 102.2797, 5.390000000000043, 63, 97, 3.09]]"
      ]
     },
     "metadata": {},
     "output_type": "display_data"
    },
    {
     "data": {
      "text/plain": [
       "[[2178753, 'Kirakira', -10.4544, 161.9205, 26.189999999999998, 88, 99, 4.17]]"
      ]
     },
     "metadata": {},
     "output_type": "display_data"
    },
    {
     "data": {
      "text/plain": [
       "[[2939658, 'Cuxhaven', 53.8718, 8.6909, 8.480000000000018, 93, 90, 2.09]]"
      ]
     },
     "metadata": {},
     "output_type": "display_data"
    },
    {
     "data": {
      "text/plain": [
       "[[1000543, 'Graaff-Reinet', -32.2522, 24.5308, 6.689999999999998, 86, 25, 0.8]]"
      ]
     },
     "metadata": {},
     "output_type": "display_data"
    },
    {
     "data": {
      "text/plain": [
       "[[1635882, 'Mataram', -8.5833, 116.1167, 32.450000000000045, 63, 19, 3.09]]"
      ]
     },
     "metadata": {},
     "output_type": "display_data"
    },
    {
     "data": {
      "text/plain": [
       "[[863061, 'Usinsk', 65.9939, 57.5281, 5.360000000000014, 47, 23, 8.28]]"
      ]
     },
     "metadata": {},
     "output_type": "display_data"
    },
    {
     "data": {
      "text/plain": [
       "[[556268, 'Ostrovnoy', 68.0531, 39.5131, 3.7100000000000364, 71, 82, 6.61]]"
      ]
     },
     "metadata": {},
     "output_type": "display_data"
    },
    {
     "data": {
      "text/plain": [
       "[[964420,\n",
       "  'Port Elizabeth',\n",
       "  -33.918,\n",
       "  25.5701,\n",
       "  12.830000000000041,\n",
       "  77,\n",
       "  89,\n",
       "  2.71]]"
      ]
     },
     "metadata": {},
     "output_type": "display_data"
    },
    {
     "data": {
      "text/plain": [
       "[[5563839, 'Fortuna', 40.5982, -124.1573, 10.950000000000045, 56, 90, 0.89]]"
      ]
     },
     "metadata": {},
     "output_type": "display_data"
    },
    {
     "data": {
      "text/plain": [
       "[[3893726,\n",
       "  'Constitución',\n",
       "  -35.3333,\n",
       "  -72.4167,\n",
       "  9.700000000000045,\n",
       "  78,\n",
       "  78,\n",
       "  3.04]]"
      ]
     },
     "metadata": {},
     "output_type": "display_data"
    },
    {
     "data": {
      "text/plain": [
       "[[5392593, 'San Ramon', 37.7799, -121.978, 11.080000000000041, 85, 1, 0.89]]"
      ]
     },
     "metadata": {},
     "output_type": "display_data"
    },
    {
     "data": {
      "text/plain": [
       "[[2171099, 'Codrington', -38.2667, 141.9667, 14.960000000000036, 46, 23, 2.37]]"
      ]
     },
     "metadata": {},
     "output_type": "display_data"
    },
    {
     "name": "stdout",
     "output_type": "stream",
     "text": [
      "Missing field/result... skipping.\n"
     ]
    },
    {
     "data": {
      "text/plain": [
       "[[5583997, 'Ammon', 43.4696, -111.9666, 10.840000000000032, 58, 1, 1.54]]"
      ]
     },
     "metadata": {},
     "output_type": "display_data"
    },
    {
     "data": {
      "text/plain": [
       "[[292968, 'Abu Dhabi', 24.4667, 54.3667, 34.01000000000005, 55, 0, 4.62]]"
      ]
     },
     "metadata": {},
     "output_type": "display_data"
    },
    {
     "name": "stdout",
     "output_type": "stream",
     "text": [
      "Missing field/result... skipping.\n"
     ]
    },
    {
     "data": {
      "text/plain": [
       "[[6089245,\n",
       "  'Norman Wells',\n",
       "  65.282,\n",
       "  -126.8329,\n",
       "  3.2000000000000455,\n",
       "  78,\n",
       "  99,\n",
       "  1.53]]"
      ]
     },
     "metadata": {},
     "output_type": "display_data"
    },
    {
     "data": {
      "text/plain": [
       "[[3430708, 'Mercedes', -34.6515, -59.4307, 4.6299999999999955, 70, 86, 3.25]]"
      ]
     },
     "metadata": {},
     "output_type": "display_data"
    },
    {
     "name": "stdout",
     "output_type": "stream",
     "text": [
      "Missing field/result... skipping.\n"
     ]
    },
    {
     "data": {
      "text/plain": [
       "[[3369157, 'Cape Town', -33.9258, 18.4232, 10.379999999999995, 91, 0, 2.26]]"
      ]
     },
     "metadata": {},
     "output_type": "display_data"
    },
    {
     "data": {
      "text/plain": [
       "[[4409896, 'Springfield', 37.2153, -93.2982, 8.580000000000041, 92, 1, 1.34]]"
      ]
     },
     "metadata": {},
     "output_type": "display_data"
    },
    {
     "data": {
      "text/plain": [
       "[[2013918, 'Ust-Maya', 60.4167, 134.5333, 18.439999999999998, 43, 100, 4.66]]"
      ]
     },
     "metadata": {},
     "output_type": "display_data"
    },
    {
     "data": {
      "text/plain": [
       "[[1649150, 'Bengkulu', -3.8004, 102.2655, 28.890000000000043, 67, 99, 2.11]]"
      ]
     },
     "metadata": {},
     "output_type": "display_data"
    },
    {
     "name": "stdout",
     "output_type": "stream",
     "text": [
      "Missing field/result... skipping.\n"
     ]
    },
    {
     "data": {
      "text/plain": [
       "[[699328, 'Novopokrovka', 49.8425, 36.5477, 17.210000000000036, 93, 98, 3.83]]"
      ]
     },
     "metadata": {},
     "output_type": "display_data"
    },
    {
     "data": {
      "text/plain": [
       "[[93709, 'Mandalī', 33.7499, 45.5541, 35.75, 10, 0, 1.17]]"
      ]
     },
     "metadata": {},
     "output_type": "display_data"
    },
    {
     "data": {
      "text/plain": [
       "[[2112802, 'Hasaki', 35.7333, 140.8333, 23.220000000000027, 68, 100, 7.85]]"
      ]
     },
     "metadata": {},
     "output_type": "display_data"
    },
    {
     "data": {
      "text/plain": [
       "[[1154689, 'Ko Samui', 9.5357, 99.9357, 31.950000000000045, 70, 20, 0.77]]"
      ]
     },
     "metadata": {},
     "output_type": "display_data"
    },
    {
     "data": {
      "text/plain": [
       "[[6137462,\n",
       "  'Saint-Augustin',\n",
       "  51.226,\n",
       "  -58.6502,\n",
       "  6.4500000000000455,\n",
       "  65,\n",
       "  12,\n",
       "  1.86]]"
      ]
     },
     "metadata": {},
     "output_type": "display_data"
    },
    {
     "name": "stdout",
     "output_type": "stream",
     "text": [
      "Missing field/result... skipping.\n"
     ]
    },
    {
     "data": {
      "text/plain": [
       "[[1855342, 'Nishihara', 26.1842, 127.7558, 22.600000000000023, 94, 75, 5.74]]"
      ]
     },
     "metadata": {},
     "output_type": "display_data"
    },
    {
     "data": {
      "text/plain": [
       "[[6145890, 'Shelburne', 44.0787, -80.2041, 3.9500000000000455, 61, 0, 0.79]]"
      ]
     },
     "metadata": {},
     "output_type": "display_data"
    },
    {
     "data": {
      "text/plain": [
       "[[535113, 'Lipin Bor', 60.2622, 37.9763, 5.5, 53, 9, 4.41]]"
      ]
     },
     "metadata": {},
     "output_type": "display_data"
    },
    {
     "data": {
      "text/plain": [
       "[[1263694, 'Manjeri', 11.1167, 76.1167, 31.379999999999995, 62, 40, 1.54]]"
      ]
     },
     "metadata": {},
     "output_type": "display_data"
    },
    {
     "data": {
      "text/plain": [
       "[[5866583,\n",
       "  'Saint Paul Harbor',\n",
       "  57.79,\n",
       "  -152.4072,\n",
       "  7.1299999999999955,\n",
       "  98,\n",
       "  100,\n",
       "  1.27]]"
      ]
     },
     "metadata": {},
     "output_type": "display_data"
    },
    {
     "data": {
      "text/plain": [
       "[[5880054, 'Barrow', 71.2906, -156.7887, -1.9899999999999523, 93, 90, 4.12]]"
      ]
     },
     "metadata": {},
     "output_type": "display_data"
    },
    {
     "data": {
      "text/plain": [
       "[[2458624, 'Diré', 12.2833, -10.9667, 29.720000000000027, 48, 73, 0.89]]"
      ]
     },
     "metadata": {},
     "output_type": "display_data"
    },
    {
     "data": {
      "text/plain": [
       "[[234092, 'Busembatia', 0.7697, 33.6131, 19.879999999999995, 86, 94, 1.68]]"
      ]
     },
     "metadata": {},
     "output_type": "display_data"
    },
    {
     "data": {
      "text/plain": [
       "[[2192362,\n",
       "  'Christchurch',\n",
       "  -43.5333,\n",
       "  172.6333,\n",
       "  11.420000000000016,\n",
       "  97,\n",
       "  90,\n",
       "  1.34]]"
      ]
     },
     "metadata": {},
     "output_type": "display_data"
    },
    {
     "data": {
      "text/plain": [
       "[[212902, 'Kindu', -2.95, 25.95, 20.850000000000023, 95, 88, 0.98]]"
      ]
     },
     "metadata": {},
     "output_type": "display_data"
    },
    {
     "data": {
      "text/plain": [
       "[[3374210, 'São Filipe', 14.8961, -24.4956, 22.360000000000014, 79, 95, 5.31]]"
      ]
     },
     "metadata": {},
     "output_type": "display_data"
    },
    {
     "data": {
      "text/plain": [
       "[[609919, 'Quryq', 43.2, 51.65, 26.0, 42, 21, 1.51]]"
      ]
     },
     "metadata": {},
     "output_type": "display_data"
    },
    {
     "data": {
      "text/plain": [
       "[[2514651,\n",
       "  'Los Llanos de Aridane',\n",
       "  28.6585,\n",
       "  -17.9182,\n",
       "  15.620000000000005,\n",
       "  81,\n",
       "  90,\n",
       "  7.13]]"
      ]
     },
     "metadata": {},
     "output_type": "display_data"
    },
    {
     "data": {
      "text/plain": [
       "[[5954718, 'Flin Flon', 54.7682, -101.865, 4.910000000000025, 85, 100, 4.94]]"
      ]
     },
     "metadata": {},
     "output_type": "display_data"
    },
    {
     "data": {
      "text/plain": [
       "[[4231997, 'Avera', 33.194, -82.5271, 17.53000000000003, 70, 45, 3.62]]"
      ]
     },
     "metadata": {},
     "output_type": "display_data"
    },
    {
     "data": {
      "text/plain": [
       "[[704422, \"Krasnoarmiys'k\", 48.282, 37.1758, 17.840000000000032, 86, 77, 3.76]]"
      ]
     },
     "metadata": {},
     "output_type": "display_data"
    },
    {
     "data": {
      "text/plain": [
       "[[3137469, 'Sørland', 67.667, 12.6934, 7.260000000000048, 79, 100, 6.23]]"
      ]
     },
     "metadata": {},
     "output_type": "display_data"
    },
    {
     "data": {
      "text/plain": [
       "[[6324729, 'Halifax', 44.6453, -63.5724, 5.350000000000023, 90, 100, 2.24]]"
      ]
     },
     "metadata": {},
     "output_type": "display_data"
    },
    {
     "data": {
      "text/plain": [
       "[[3351663, 'Benguela', -12.5763, 13.4055, 22.480000000000018, 57, 0, 2.36]]"
      ]
     },
     "metadata": {},
     "output_type": "display_data"
    },
    {
     "data": {
      "text/plain": [
       "[[1812256, 'Dongsheng', 39.8161, 109.9776, 23.680000000000007, 13, 4, 1.85]]"
      ]
     },
     "metadata": {},
     "output_type": "display_data"
    },
    {
     "data": {
      "text/plain": [
       "[[2109528, 'Buala', -8.145, 159.5921, 27.140000000000043, 83, 76, 2.29]]"
      ]
     },
     "metadata": {},
     "output_type": "display_data"
    },
    {
     "name": "stdout",
     "output_type": "stream",
     "text": [
      "Missing field/result... skipping.\n",
      "Missing field/result... skipping.\n"
     ]
    },
    {
     "data": {
      "text/plain": [
       "[[2294877, 'Tamale', 9.4008, -0.8393, 26.810000000000002, 68, 42, 2.52]]"
      ]
     },
     "metadata": {},
     "output_type": "display_data"
    },
    {
     "data": {
      "text/plain": [
       "[[1512019, 'Aksarka', 66.5606, 67.7975, 7.1200000000000045, 57, 87, 5]]"
      ]
     },
     "metadata": {},
     "output_type": "display_data"
    },
    {
     "data": {
      "text/plain": [
       "[[1623197, 'Tual', -5.6667, 132.75, 27.620000000000005, 78, 94, 9.28]]"
      ]
     },
     "metadata": {},
     "output_type": "display_data"
    },
    {
     "data": {
      "text/plain": [
       "[[3175096, 'Laas', 46.6166, 10.7002, 6.930000000000007, 81, 18, 1.92]]"
      ]
     },
     "metadata": {},
     "output_type": "display_data"
    },
    {
     "data": {
      "text/plain": [
       "[[1260129, 'Patharia', 23.9, 79.2, 38.410000000000025, 26, 18, 4.02]]"
      ]
     },
     "metadata": {},
     "output_type": "display_data"
    },
    {
     "data": {
      "text/plain": [
       "[[2022572, 'Khatanga', 71.9667, 102.5, 11.129999999999995, 71, 42, 3.55]]"
      ]
     },
     "metadata": {},
     "output_type": "display_data"
    },
    {
     "data": {
      "text/plain": [
       "[[4034551, 'Faanui', -16.4833, -151.75, 26.960000000000036, 73, 55, 4.85]]"
      ]
     },
     "metadata": {},
     "output_type": "display_data"
    },
    {
     "data": {
      "text/plain": [
       "[[3980149, 'Villamar', 20.0167, -102.6, 22.53000000000003, 45, 100, 2.02]]"
      ]
     },
     "metadata": {},
     "output_type": "display_data"
    },
    {
     "data": {
      "text/plain": [
       "[[3899695, 'Ancud', -41.8697, -73.8203, 10.82000000000005, 92, 100, 4.72]]"
      ]
     },
     "metadata": {},
     "output_type": "display_data"
    },
    {
     "data": {
      "text/plain": [
       "[[5959803, 'Capreol', 46.706, -80.9225, 7.260000000000048, 53, 1, 1.48]]"
      ]
     },
     "metadata": {},
     "output_type": "display_data"
    },
    {
     "data": {
      "text/plain": [
       "[[2242885, 'Camabatela', -8.1881, 15.375, 15.950000000000045, 59, 52, 1.79]]"
      ]
     },
     "metadata": {},
     "output_type": "display_data"
    },
    {
     "data": {
      "text/plain": [
       "[[5517061, 'Big Spring', 32.2504, -101.4787, 20.340000000000032, 80, 1, 1.79]]"
      ]
     },
     "metadata": {},
     "output_type": "display_data"
    },
    {
     "data": {
      "text/plain": [
       "[[3105522, 'Bereda', 43.2686, -7.5406, 10.060000000000002, 100, 95, 1.74]]"
      ]
     },
     "metadata": {},
     "output_type": "display_data"
    },
    {
     "data": {
      "text/plain": [
       "[[2123814,\n",
       "  'Leningradskiy',\n",
       "  69.3833,\n",
       "  178.4167,\n",
       "  3.2100000000000364,\n",
       "  97,\n",
       "  71,\n",
       "  2.7]]"
      ]
     },
     "metadata": {},
     "output_type": "display_data"
    },
    {
     "data": {
      "text/plain": [
       "[[1511709, 'Alzamay', 55.5562, 98.6644, 6.270000000000039, 51, 98, 4.54]]"
      ]
     },
     "metadata": {},
     "output_type": "display_data"
    },
    {
     "data": {
      "text/plain": [
       "[[6096551, 'Pangnirtung', 66.1451, -65.7125, -7.939999999999998, 88, 10, 2.45]]"
      ]
     },
     "metadata": {},
     "output_type": "display_data"
    },
    {
     "data": {
      "text/plain": [
       "[[4164601, 'Miramar', 25.9873, -80.2323, 25.850000000000023, 78, 75, 1.54]]"
      ]
     },
     "metadata": {},
     "output_type": "display_data"
    },
    {
     "data": {
      "text/plain": [
       "[[121801, 'Urmia', 37.5527, 45.0761, 24.75, 18, 0, 2.34]]"
      ]
     },
     "metadata": {},
     "output_type": "display_data"
    },
    {
     "data": {
      "text/plain": [
       "[[6167817, 'Torbay', 47.6666, -52.7314, 4.920000000000016, 84, 100, 1.34]]"
      ]
     },
     "metadata": {},
     "output_type": "display_data"
    },
    {
     "name": "stdout",
     "output_type": "stream",
     "text": [
      "Missing field/result... skipping.\n"
     ]
    },
    {
     "data": {
      "text/plain": [
       "[[4035715, 'Avarua', -21.2078, -159.775, 22.03000000000003, 73, 20, 1.03]]"
      ]
     },
     "metadata": {},
     "output_type": "display_data"
    },
    {
     "data": {
      "text/plain": [
       "[[3466980, 'Caravelas', -17.7125, -39.2481, 22.77000000000004, 93, 8, 2.46]]"
      ]
     },
     "metadata": {},
     "output_type": "display_data"
    },
    {
     "data": {
      "text/plain": [
       "[[3361934, 'Saldanha', -33.0117, 17.9442, 13.410000000000025, 83, 0, 1.64]]"
      ]
     },
     "metadata": {},
     "output_type": "display_data"
    },
    {
     "data": {
      "text/plain": [
       "[[2185763, 'Okato', -39.2, 173.8833, 10.939999999999998, 75, 30, 3.25]]"
      ]
     },
     "metadata": {},
     "output_type": "display_data"
    },
    {
     "data": {
      "text/plain": [
       "[[1835848, 'Seoul', 37.5683, 126.9778, 24.660000000000025, 41, 0, 1.27]]"
      ]
     },
     "metadata": {},
     "output_type": "display_data"
    },
    {
     "data": {
      "text/plain": [
       "[[1490256, 'Talnakh', 69.4865, 88.3972, 0.1400000000000432, 100, 79, 4.53]]"
      ]
     },
     "metadata": {},
     "output_type": "display_data"
    },
    {
     "data": {
      "text/plain": [
       "[[2629833, 'Husavik', 66.0449, -17.3389, 9.950000000000045, 57, 100, 5.12]]"
      ]
     },
     "metadata": {},
     "output_type": "display_data"
    },
    {
     "data": {
      "text/plain": [
       "[[935214, 'Saint-Pierre', -21.3393, 55.4781, 23.860000000000014, 51, 0, 2.06]]"
      ]
     },
     "metadata": {},
     "output_type": "display_data"
    },
    {
     "data": {
      "text/plain": [
       "[[2071860, 'Esperance', -33.8667, 121.9, 19.010000000000048, 54, 0, 8.07]]"
      ]
     },
     "metadata": {},
     "output_type": "display_data"
    },
    {
     "data": {
      "text/plain": [
       "[[1812805, 'Dinghaicun', 26.2847, 119.7936, 21.510000000000048, 94, 99, 3.96]]"
      ]
     },
     "metadata": {},
     "output_type": "display_data"
    },
    {
     "data": {
      "text/plain": [
       "[[3164387, 'Vieste', 41.8825, 16.175, 16.420000000000016, 84, 100, 6.07]]"
      ]
     },
     "metadata": {},
     "output_type": "display_data"
    },
    {
     "data": {
      "text/plain": [
       "[[3448903,\n",
       "  'São João da Barra',\n",
       "  -21.6403,\n",
       "  -41.0511,\n",
       "  23.439999999999998,\n",
       "  80,\n",
       "  76,\n",
       "  2.43]]"
      ]
     },
     "metadata": {},
     "output_type": "display_data"
    },
    {
     "data": {
      "text/plain": [
       "[[5955902,\n",
       "  'Fort Nelson',\n",
       "  58.8053,\n",
       "  -122.7002,\n",
       "  12.450000000000045,\n",
       "  49,\n",
       "  52,\n",
       "  0.44]]"
      ]
     },
     "metadata": {},
     "output_type": "display_data"
    },
    {
     "data": {
      "text/plain": [
       "[[258175, 'Lixouri', 38.2019, 20.4314, 16.920000000000016, 73, 47, 2.82]]"
      ]
     },
     "metadata": {},
     "output_type": "display_data"
    },
    {
     "data": {
      "text/plain": [
       "[[2620279, 'Hirtshals', 57.5881, 9.9592, 10.900000000000034, 74, 44, 2.54]]"
      ]
     },
     "metadata": {},
     "output_type": "display_data"
    },
    {
     "data": {
      "text/plain": [
       "[[3423146, 'Ilulissat', 69.2167, -51.1, 8.010000000000048, 31, 48, 7.72]]"
      ]
     },
     "metadata": {},
     "output_type": "display_data"
    },
    {
     "data": {
      "text/plain": [
       "[[2647984, 'Great Yarmouth', 52.6083, 1.7305, 9.210000000000036, 89, 5, 3.86]]"
      ]
     },
     "metadata": {},
     "output_type": "display_data"
    },
    {
     "data": {
      "text/plain": [
       "[[3832899, 'Viedma', -40.8135, -62.9967, 5.990000000000009, 56, 11, 3.32]]"
      ]
     },
     "metadata": {},
     "output_type": "display_data"
    },
    {
     "data": {
      "text/plain": [
       "[[2553604, 'Casablanca', 33.5928, -7.6192, 18.75, 87, 91, 0.7]]"
      ]
     },
     "metadata": {},
     "output_type": "display_data"
    },
    {
     "name": "stdout",
     "output_type": "stream",
     "text": [
      "Missing field/result... skipping.\n"
     ]
    },
    {
     "data": {
      "text/plain": [
       "[[5993072, 'Kitimat', 54.0524, -128.6534, 13.28000000000003, 68, 100, 1.44]]"
      ]
     },
     "metadata": {},
     "output_type": "display_data"
    },
    {
     "data": {
      "text/plain": [
       "[[1015776, 'Bredasdorp', -34.5322, 20.0403, 7.930000000000007, 92, 88, 1.55]]"
      ]
     },
     "metadata": {},
     "output_type": "display_data"
    },
    {
     "data": {
      "text/plain": [
       "[[108410, 'Riyadh', 24.6877, 46.7219, 37.03000000000003, 8, 0, 2.57]]"
      ]
     },
     "metadata": {},
     "output_type": "display_data"
    },
    {
     "name": "stdout",
     "output_type": "stream",
     "text": [
      "Missing field/result... skipping.\n"
     ]
    },
    {
     "data": {
      "text/plain": [
       "[[964406, 'Port Shepstone', -30.7414, 30.455, 16.400000000000034, 61, 0, 9.1]]"
      ]
     },
     "metadata": {},
     "output_type": "display_data"
    },
    {
     "data": {
      "text/plain": [
       "[[4031574, 'Provideniya', 64.3833, -173.3, 8.020000000000039, 43, 3, 2.23]]"
      ]
     },
     "metadata": {},
     "output_type": "display_data"
    },
    {
     "data": {
      "text/plain": [
       "[[141665, 'Bandar-e Lengeh', 26.5579, 54.8807, 32.06, 79, 20, 4.12]]"
      ]
     },
     "metadata": {},
     "output_type": "display_data"
    },
    {
     "data": {
      "text/plain": [
       "[[3466196,\n",
       "  'Chopinzinho',\n",
       "  -25.8558,\n",
       "  -52.5233,\n",
       "  12.480000000000018,\n",
       "  96,\n",
       "  19,\n",
       "  1.02]]"
      ]
     },
     "metadata": {},
     "output_type": "display_data"
    },
    {
     "data": {
      "text/plain": [
       "[[3835869, 'Santiago del Estero', -27.7951, -64.2615, 12.25, 44, 9, 2.38]]"
      ]
     },
     "metadata": {},
     "output_type": "display_data"
    },
    {
     "data": {
      "text/plain": [
       "[[5919850, 'Chapais', 49.7834, -74.8492, 2.75, 53, 0, 1.59]]"
      ]
     },
     "metadata": {},
     "output_type": "display_data"
    },
    {
     "data": {
      "text/plain": [
       "[[2729907, 'Longyearbyen', 78.2186, 15.6401, 0.910000000000025, 69, 75, 1.54]]"
      ]
     },
     "metadata": {},
     "output_type": "display_data"
    },
    {
     "data": {
      "text/plain": [
       "[[3418910, 'Upernavik', 72.7868, -56.1549, -0.6999999999999886, 95, 100, 7.14]]"
      ]
     },
     "metadata": {},
     "output_type": "display_data"
    },
    {
     "data": {
      "text/plain": [
       "[[1811720, 'Enshi', 30.3, 109.4833, 28.55000000000001, 57, 100, 1.05]]"
      ]
     },
     "metadata": {},
     "output_type": "display_data"
    },
    {
     "data": {
      "text/plain": [
       "[[5887531, 'Ashcroft', 50.7165, -121.2859, 18.160000000000025, 51, 33, 1.75]]"
      ]
     },
     "metadata": {},
     "output_type": "display_data"
    },
    {
     "data": {
      "text/plain": [
       "[[6180550, 'Whitehorse', 60.7161, -135.0538, 8.180000000000007, 52, 75, 7.15]]"
      ]
     },
     "metadata": {},
     "output_type": "display_data"
    },
    {
     "name": "stdout",
     "output_type": "stream",
     "text": [
      "Missing field/result... skipping.\n"
     ]
    },
    {
     "data": {
      "text/plain": [
       "[[5710360, 'Winnemucca', 40.973, -117.7357, 18.03000000000003, 15, 1, 2.15]]"
      ]
     },
     "metadata": {},
     "output_type": "display_data"
    },
    {
     "data": {
      "text/plain": [
       "[[1794971, 'Shitanjing', 39.2342, 106.3439, 26.860000000000014, 16, 44, 1.97]]"
      ]
     },
     "metadata": {},
     "output_type": "display_data"
    },
    {
     "data": {
      "text/plain": [
       "[[935215, 'Saint-Philippe', -21.3585, 55.7679, 23.700000000000045, 75, 1, 3.2]]"
      ]
     },
     "metadata": {},
     "output_type": "display_data"
    },
    {
     "data": {
      "text/plain": [
       "[[1171757, 'Mach', 29.8637, 67.3298, 35.29000000000002, 9, 0, 0.68]]"
      ]
     },
     "metadata": {},
     "output_type": "display_data"
    },
    {
     "data": {
      "text/plain": [
       "[[128747, 'Karaj', 35.8355, 51.0103, 28.950000000000045, 11, 0, 2.25]]"
      ]
     },
     "metadata": {},
     "output_type": "display_data"
    },
    {
     "data": {
      "text/plain": [
       "[[5391295, 'Salinas', 36.6777, -121.6555, 11.960000000000036, 78, 90, 6.69]]"
      ]
     },
     "metadata": {},
     "output_type": "display_data"
    },
    {
     "data": {
      "text/plain": [
       "[[5122534, 'Jamestown', 42.097, -79.2353, 8.100000000000023, 92, 90, 0.45]]"
      ]
     },
     "metadata": {},
     "output_type": "display_data"
    },
    {
     "data": {
      "text/plain": [
       "[[6050066, 'La Ronge', 55.1001, -105.2842, 3.160000000000025, 96, 91, 2.86]]"
      ]
     },
     "metadata": {},
     "output_type": "display_data"
    },
    {
     "data": {
      "text/plain": [
       "[[3870282, 'Talcahuano', -36.7167, -73.1167, 5.82000000000005, 100, 0, 2.06]]"
      ]
     },
     "metadata": {},
     "output_type": "display_data"
    },
    {
     "data": {
      "text/plain": [
       "[[2092164, 'Lorengau', -2.0226, 147.2712, 28.650000000000034, 80, 30, 5.39]]"
      ]
     },
     "metadata": {},
     "output_type": "display_data"
    },
    {
     "data": {
      "text/plain": [
       "[[3995236, 'Mulegé', 26.8833, -111.9833, 24.75, 47, 84, 1.01]]"
      ]
     },
     "metadata": {},
     "output_type": "display_data"
    },
    {
     "data": {
      "text/plain": [
       "[[1808370, 'Hengyang', 26.8881, 112.615, 27.439999999999998, 72, 95, 1.53]]"
      ]
     },
     "metadata": {},
     "output_type": "display_data"
    },
    {
     "data": {
      "text/plain": [
       "[[1215350, 'Bireun', 5.203, 96.7009, 30.370000000000005, 64, 100, 2.89]]"
      ]
     },
     "metadata": {},
     "output_type": "display_data"
    },
    {
     "data": {
      "text/plain": [
       "[[546105, 'Nikolskoye', 59.7035, 30.7861, 9.650000000000034, 50, 4, 3.14]]"
      ]
     },
     "metadata": {},
     "output_type": "display_data"
    },
    {
     "data": {
      "text/plain": [
       "[[3520994,\n",
       "  'Puerto Escondido',\n",
       "  15.85,\n",
       "  -97.0667,\n",
       "  28.220000000000027,\n",
       "  75,\n",
       "  60,\n",
       "  1.16]]"
      ]
     },
     "metadata": {},
     "output_type": "display_data"
    },
    {
     "data": {
      "text/plain": [
       "[[286621, 'Salalah', 17.0151, 54.0924, 30.05000000000001, 84, 75, 6.17]]"
      ]
     },
     "metadata": {},
     "output_type": "display_data"
    },
    {
     "data": {
      "text/plain": [
       "[[3354071, 'Oranjemund', -28.55, 16.4333, 13.430000000000007, 77, 100, 4.43]]"
      ]
     },
     "metadata": {},
     "output_type": "display_data"
    },
    {
     "data": {
      "text/plain": [
       "[[3336897, 'La Rioja', 42.25, -2.5, 10.879999999999995, 94, 94, 0.54]]"
      ]
     },
     "metadata": {},
     "output_type": "display_data"
    },
    {
     "data": {
      "text/plain": [
       "[[1061412, 'Mananara', -16.1667, 49.7667, 23.75, 76, 33, 0.61]]"
      ]
     },
     "metadata": {},
     "output_type": "display_data"
    },
    {
     "data": {
      "text/plain": [
       "[[1292288, 'Thaton', 16.9206, 97.3714, 29.660000000000025, 73, 99, 3.42]]"
      ]
     },
     "metadata": {},
     "output_type": "display_data"
    },
    {
     "data": {
      "text/plain": [
       "[[2140558, 'Koumac', -20.5667, 164.2833, 22.04000000000002, 55, 71, 5.58]]"
      ]
     },
     "metadata": {},
     "output_type": "display_data"
    },
    {
     "data": {
      "text/plain": [
       "[[1571058, 'Phan Thiet', 10.9333, 108.1, 33.19, 58, 16, 4.85]]"
      ]
     },
     "metadata": {},
     "output_type": "display_data"
    },
    {
     "data": {
      "text/plain": [
       "[[3717546, 'Saint-Raphaël', 19.4333, -72.2, 21.840000000000032, 89, 12, 1.45]]"
      ]
     },
     "metadata": {},
     "output_type": "display_data"
    },
    {
     "data": {
      "text/plain": [
       "[[3696417, 'Huánuco', -9.9329, -76.2415, 15.970000000000027, 93, 90, 1.31]]"
      ]
     },
     "metadata": {},
     "output_type": "display_data"
    },
    {
     "name": "stdout",
     "output_type": "stream",
     "text": [
      "Missing field/result... skipping.\n",
      "Missing field/result... skipping.\n"
     ]
    },
    {
     "data": {
      "text/plain": [
       "[[3893629, 'Coquimbo', -29.9533, -71.3436, 10.850000000000023, 100, 20, 1.43]]"
      ]
     },
     "metadata": {},
     "output_type": "display_data"
    },
    {
     "data": {
      "text/plain": [
       "[[3421719, 'Narsaq', 60.9167, -46.05, 3.1200000000000045, 98, 100, 1.35]]"
      ]
     },
     "metadata": {},
     "output_type": "display_data"
    },
    {
     "data": {
      "text/plain": [
       "[[2278158, 'Buchanan', 5.8808, -10.0467, 25.83000000000004, 88, 97, 1.78]]"
      ]
     },
     "metadata": {},
     "output_type": "display_data"
    },
    {
     "data": {
      "text/plain": [
       "[[3804949, 'Guasdualito', 7.2424, -70.7324, 24.0, 100, 59, 1.54]]"
      ]
     },
     "metadata": {},
     "output_type": "display_data"
    },
    {
     "data": {
      "text/plain": [
       "[[5287565,\n",
       "  'Bullhead City',\n",
       "  35.1478,\n",
       "  -114.5683,\n",
       "  29.900000000000034,\n",
       "  15,\n",
       "  0,\n",
       "  2.78]]"
      ]
     },
     "metadata": {},
     "output_type": "display_data"
    },
    {
     "data": {
      "text/plain": [
       "[[1282256, 'Hithadhoo', -0.6, 73.0833, 28.640000000000043, 71, 62, 7.42]]"
      ]
     },
     "metadata": {},
     "output_type": "display_data"
    },
    {
     "data": {
      "text/plain": [
       "[[5983607, 'Inuvik', 68.3499, -133.7218, 2.1899999999999977, 63, 95, 2.62]]"
      ]
     },
     "metadata": {},
     "output_type": "display_data"
    },
    {
     "data": {
      "text/plain": [
       "[[1266931, 'Khargāpur', 24.823, 79.144, 37.150000000000034, 31, 1, 2.65]]"
      ]
     },
     "metadata": {},
     "output_type": "display_data"
    },
    {
     "name": "stdout",
     "output_type": "stream",
     "text": [
      "Missing field/result... skipping.\n"
     ]
    },
    {
     "data": {
      "text/plain": [
       "[[4036284, 'Alofi', -19.0595, -169.9187, 26.670000000000016, 76, 40, 4.87]]"
      ]
     },
     "metadata": {},
     "output_type": "display_data"
    },
    {
     "data": {
      "text/plain": [
       "[[1486321, 'Yar-Sale', 66.8333, 70.8333, 9.129999999999995, 51, 85, 2.58]]"
      ]
     },
     "metadata": {},
     "output_type": "display_data"
    },
    {
     "data": {
      "text/plain": [
       "[[2270385, 'Camacha', 33.0833, -16.3333, 16.670000000000016, 82, 75, 5.14]]"
      ]
     },
     "metadata": {},
     "output_type": "display_data"
    },
    {
     "data": {
      "text/plain": [
       "[[3662489,\n",
       "  'Santa Isabel Rio Negro',\n",
       "  -0.4139,\n",
       "  -65.0192,\n",
       "  22.970000000000027,\n",
       "  97,\n",
       "  100,\n",
       "  1.18]]"
      ]
     },
     "metadata": {},
     "output_type": "display_data"
    },
    {
     "data": {
      "text/plain": [
       "[[1503037, 'Kodinsk', 58.6881, 99.1844, 4.5400000000000205, 83, 100, 3.31]]"
      ]
     },
     "metadata": {},
     "output_type": "display_data"
    },
    {
     "data": {
      "text/plain": [
       "[[2122090, 'Pevek', 69.7008, 170.3133, 5.740000000000009, 55, 1, 1.19]]"
      ]
     },
     "metadata": {},
     "output_type": "display_data"
    },
    {
     "data": {
      "text/plain": [
       "[[2094342, 'Kavieng', -2.5744, 150.7967, 29.090000000000032, 74, 93, 5.21]]"
      ]
     },
     "metadata": {},
     "output_type": "display_data"
    },
    {
     "data": {
      "text/plain": [
       "[[4033077, 'Vaitape', -16.5167, -151.75, 26.970000000000027, 73, 55, 4.94]]"
      ]
     },
     "metadata": {},
     "output_type": "display_data"
    },
    {
     "data": {
      "text/plain": [
       "[[6325479, 'Beaupré', 47.0443, -70.8953, 6.510000000000048, 63, 1, 1.03]]"
      ]
     },
     "metadata": {},
     "output_type": "display_data"
    },
    {
     "data": {
      "text/plain": [
       "[[3347019, 'Mossamedes', -15.1961, 12.1522, 22.600000000000023, 57, 34, 2.88]]"
      ]
     },
     "metadata": {},
     "output_type": "display_data"
    },
    {
     "data": {
      "text/plain": [
       "[[2180815, 'Tuatapere', -46.1333, 167.6833, 9.900000000000034, 94, 100, 3.98]]"
      ]
     },
     "metadata": {},
     "output_type": "display_data"
    },
    {
     "data": {
      "text/plain": [
       "[[2224827, 'Ngaoundéré', 7.3167, 13.5833, 18.420000000000016, 84, 70, 1.4]]"
      ]
     },
     "metadata": {},
     "output_type": "display_data"
    },
    {
     "data": {
      "text/plain": [
       "[[2079582, 'Alyangula', -13.8483, 136.4192, 28.930000000000007, 51, 52, 5.15]]"
      ]
     },
     "metadata": {},
     "output_type": "display_data"
    },
    {
     "data": {
      "text/plain": [
       "[[3664980, 'Boa Vista', 2.8197, -60.6733, 24.99000000000001, 88, 75, 2.06]]"
      ]
     },
     "metadata": {},
     "output_type": "display_data"
    },
    {
     "data": {
      "text/plain": [
       "[[3855065,\n",
       "  'General Roca',\n",
       "  -39.0333,\n",
       "  -67.5833,\n",
       "  3.2200000000000273,\n",
       "  60,\n",
       "  23,\n",
       "  3.69]]"
      ]
     },
     "metadata": {},
     "output_type": "display_data"
    },
    {
     "data": {
      "text/plain": [
       "[[2015306, 'Tiksi', 71.6872, 128.8694, 2.1000000000000227, 85, 14, 3.9]]"
      ]
     },
     "metadata": {},
     "output_type": "display_data"
    },
    {
     "data": {
      "text/plain": [
       "[[1819729, 'Hong Kong', 22.2855, 114.1577, 32.22000000000003, 77, 100, 0.45]]"
      ]
     },
     "metadata": {},
     "output_type": "display_data"
    },
    {
     "name": "stdout",
     "output_type": "stream",
     "text": [
      "Missing field/result... skipping.\n"
     ]
    },
    {
     "data": {
      "text/plain": [
       "[[1698354, 'Namuac', 18.6109, 121.1657, 32.19, 63, 80, 5.42]]"
      ]
     },
     "metadata": {},
     "output_type": "display_data"
    },
    {
     "data": {
      "text/plain": [
       "[[2548885, 'Fes', 34.0372, -4.9998, 20.140000000000043, 77, 0, 2.13]]"
      ]
     },
     "metadata": {},
     "output_type": "display_data"
    },
    {
     "data": {
      "text/plain": [
       "[[3134521, 'Tjøme', 59.1109, 10.3933, 14.350000000000023, 58, 86, 1.58]]"
      ]
     },
     "metadata": {},
     "output_type": "display_data"
    },
    {
     "data": {
      "text/plain": [
       "[[1650434, 'Bambanglipuro', -7.95, 110.2833, 29.189999999999998, 69, 79, 4.28]]"
      ]
     },
     "metadata": {},
     "output_type": "display_data"
    },
    {
     "data": {
      "text/plain": [
       "[[5282297, 'Bethel', 41.3712, -73.414, 7.53000000000003, 85, 90, 0.45]]"
      ]
     },
     "metadata": {},
     "output_type": "display_data"
    },
    {
     "data": {
      "text/plain": [
       "[[3386213, 'Touros', -5.1989, -35.4608, 23.5, 86, 44, 5.28]]"
      ]
     },
     "metadata": {},
     "output_type": "display_data"
    },
    {
     "data": {
      "text/plain": [
       "[[3608828, 'Iralaya', 15, -83.2333, 26.410000000000025, 76, 36, 3.89]]"
      ]
     },
     "metadata": {},
     "output_type": "display_data"
    },
    {
     "data": {
      "text/plain": [
       "[[2094144, 'Kerema', -7.9631, 145.7785, 27.189999999999998, 77, 90, 2.89]]"
      ]
     },
     "metadata": {},
     "output_type": "display_data"
    },
    {
     "data": {
      "text/plain": [
       "[[3533462,\n",
       "  'Acapulco de Juárez',\n",
       "  16.8634,\n",
       "  -99.8901,\n",
       "  27.890000000000043,\n",
       "  76,\n",
       "  100,\n",
       "  0.53]]"
      ]
     },
     "metadata": {},
     "output_type": "display_data"
    },
    {
     "data": {
      "text/plain": [
       "[[2126123, 'Chokurdakh', 70.6333, 147.9167, 17.650000000000034, 25, 9, 6.47]]"
      ]
     },
     "metadata": {},
     "output_type": "display_data"
    },
    {
     "data": {
      "text/plain": [
       "[[2018069, 'Peleduy', 59.6289, 112.7406, 8.03000000000003, 70, 100, 1.56]]"
      ]
     },
     "metadata": {},
     "output_type": "display_data"
    },
    {
     "data": {
      "text/plain": [
       "[[3156868, 'Folldal', 62.1325, 9.9968, 13.480000000000018, 49, 5, 0.56]]"
      ]
     },
     "metadata": {},
     "output_type": "display_data"
    },
    {
     "data": {
      "text/plain": [
       "[[2639912, 'Preston', 53.7667, -2.7167, 10.900000000000034, 81, 2, 1.83]]"
      ]
     },
     "metadata": {},
     "output_type": "display_data"
    },
    {
     "data": {
      "text/plain": [
       "[[5962442, 'Goderich', 43.7501, -81.7165, 6.9500000000000455, 65, 0, 2.54]]"
      ]
     },
     "metadata": {},
     "output_type": "display_data"
    },
    {
     "data": {
      "text/plain": [
       "[[6138802,\n",
       "  'Saint-Michel-des-Saints',\n",
       "  46.6834,\n",
       "  -73.9159,\n",
       "  2.230000000000018,\n",
       "  80,\n",
       "  1,\n",
       "  0.88]]"
      ]
     },
     "metadata": {},
     "output_type": "display_data"
    },
    {
     "data": {
      "text/plain": [
       "[[3421193, 'Paamiut', 61.994, -49.6678, 1.5400000000000205, 94, 99, 3.29]]"
      ]
     },
     "metadata": {},
     "output_type": "display_data"
    },
    {
     "data": {
      "text/plain": [
       "[[2172880, 'Byron Bay', -28.65, 153.6167, 17.460000000000036, 71, 100, 8.06]]"
      ]
     },
     "metadata": {},
     "output_type": "display_data"
    },
    {
     "data": {
      "text/plain": [
       "[[1684245, 'Tagusao', 9.1924, 117.8141, 29.910000000000025, 69, 79, 3.65]]"
      ]
     },
     "metadata": {},
     "output_type": "display_data"
    },
    {
     "name": "stdout",
     "output_type": "stream",
     "text": [
      "Missing field/result... skipping.\n"
     ]
    },
    {
     "data": {
      "text/plain": [
       "[[3370352, 'Atlantis', -33.5667, 18.4834, 9.230000000000018, 88, 3, 1.29]]"
      ]
     },
     "metadata": {},
     "output_type": "display_data"
    },
    {
     "data": {
      "text/plain": [
       "[[1642692, 'Jatiroto', -7.8833, 111.1167, 28.74000000000001, 71, 98, 0.78]]"
      ]
     },
     "metadata": {},
     "output_type": "display_data"
    },
    {
     "name": "stdout",
     "output_type": "stream",
     "text": [
      "Missing field/result... skipping.\n"
     ]
    },
    {
     "data": {
      "text/plain": [
       "[[3461370, 'Imbituba', -28.24, -48.6703, 17.939999999999998, 83, 66, 5.29]]"
      ]
     },
     "metadata": {},
     "output_type": "display_data"
    },
    {
     "name": "stdout",
     "output_type": "stream",
     "text": [
      "Missing field/result... skipping.\n"
     ]
    },
    {
     "data": {
      "text/plain": [
       "[[3714956, 'Ailigandí', 9.2333, -78.0167, 25.24000000000001, 88, 91, 2.44]]"
      ]
     },
     "metadata": {},
     "output_type": "display_data"
    },
    {
     "data": {
      "text/plain": [
       "[[4787534, 'Sterling', 39.0062, -77.4286, 9.420000000000016, 95, 90, 0.45]]"
      ]
     },
     "metadata": {},
     "output_type": "display_data"
    },
    {
     "data": {
      "text/plain": [
       "[[3717588, 'Saint-Marc', 19.1082, -72.6938, 26.860000000000014, 70, 13, 1.7]]"
      ]
     },
     "metadata": {},
     "output_type": "display_data"
    },
    {
     "data": {
      "text/plain": [
       "[[3430443, 'Necochea', -38.5473, -58.7368, 7.189999999999998, 53, 43, 7.69]]"
      ]
     },
     "metadata": {},
     "output_type": "display_data"
    },
    {
     "data": {
      "text/plain": [
       "[[2019718, 'Mukhen', 48.1, 136.1, 15.82000000000005, 50, 100, 2.59]]"
      ]
     },
     "metadata": {},
     "output_type": "display_data"
    },
    {
     "data": {
      "text/plain": [
       "[[3908339, 'Patacamaya', -17.2333, -67.9167, 6.080000000000041, 82, 100, 2]]"
      ]
     },
     "metadata": {},
     "output_type": "display_data"
    },
    {
     "data": {
      "text/plain": [
       "[[5554072, 'Juneau', 58.3019, -134.4197, 9.600000000000023, 85, 75, 1.79]]"
      ]
     },
     "metadata": {},
     "output_type": "display_data"
    },
    {
     "data": {
      "text/plain": [
       "[[102527, 'Sakakah', 29.9697, 40.2064, 28.760000000000048, 15, 70, 4.47]]"
      ]
     },
     "metadata": {},
     "output_type": "display_data"
    },
    {
     "data": {
      "text/plain": [
       "[[1510689, 'Baykit', 61.67, 96.37, 4.840000000000032, 84, 100, 3.3]]"
      ]
     },
     "metadata": {},
     "output_type": "display_data"
    },
    {
     "data": {
      "text/plain": [
       "[[3883457, 'Lebu', -37.6167, -73.65, 9.560000000000002, 74, 55, 1.25]]"
      ]
     },
     "metadata": {},
     "output_type": "display_data"
    },
    {
     "data": {
      "text/plain": [
       "[[361058, 'Alexandria', 31.2156, 29.9553, 22.390000000000043, 54, 0, 4.09]]"
      ]
     },
     "metadata": {},
     "output_type": "display_data"
    },
    {
     "name": "stdout",
     "output_type": "stream",
     "text": [
      "Missing field/result... skipping.\n"
     ]
    },
    {
     "data": {
      "text/plain": [
       "[[2128975, 'Nemuro', 43.3236, 145.575, 11.240000000000009, 92, 72, 6.4]]"
      ]
     },
     "metadata": {},
     "output_type": "display_data"
    },
    {
     "data": {
      "text/plain": [
       "[[1805935, 'Jiazi', 22.8779, 116.067, 31.470000000000027, 70, 100, 9.83]]"
      ]
     },
     "metadata": {},
     "output_type": "display_data"
    },
    {
     "data": {
      "text/plain": [
       "[[1489822, \"Tegul'det\", 57.3064, 88.1667, 13.360000000000014, 29, 18, 2.05]]"
      ]
     },
     "metadata": {},
     "output_type": "display_data"
    },
    {
     "data": {
      "text/plain": [
       "[[553766, 'Kamenka', 51.3223, 42.7678, 20.310000000000002, 72, 85, 1.41]]"
      ]
     },
     "metadata": {},
     "output_type": "display_data"
    },
    {
     "data": {
      "text/plain": [
       "[[1162738, 'Wah', 33.798, 72.6957, 36.47000000000003, 21, 7, 1.74]]"
      ]
     },
     "metadata": {},
     "output_type": "display_data"
    },
    {
     "name": "stdout",
     "output_type": "stream",
     "text": [
      "Missing field/result... skipping.\n"
     ]
    },
    {
     "data": {
      "text/plain": [
       "[[2157698, 'Mildura', -34.2, 142.15, 14.980000000000018, 33, 0, 2.57]]"
      ]
     },
     "metadata": {},
     "output_type": "display_data"
    },
    {
     "data": {
      "text/plain": [
       "[[3372964, 'Lagoa', 39.05, -27.9833, 16.939999999999998, 78, 38, 3.32]]"
      ]
     },
     "metadata": {},
     "output_type": "display_data"
    },
    {
     "data": {
      "text/plain": [
       "[[2136825, 'Isangel', -19.55, 169.2667, 23.02000000000004, 66, 100, 3.42]]"
      ]
     },
     "metadata": {},
     "output_type": "display_data"
    },
    {
     "data": {
      "text/plain": [
       "[[1797793, 'Qingquan', 30.4511, 115.2559, 29.870000000000005, 58, 70, 1.42]]"
      ]
     },
     "metadata": {},
     "output_type": "display_data"
    },
    {
     "data": {
      "text/plain": [
       "[[4031742, 'Egvekinot', 66.3167, -179.1667, 6.350000000000023, 45, 8, 2.3]]"
      ]
     },
     "metadata": {},
     "output_type": "display_data"
    },
    {
     "data": {
      "text/plain": [
       "[[5924351, 'Clyde River', 70.4692, -68.5914, -8.339999999999975, 87, 5, 1.77]]"
      ]
     },
     "metadata": {},
     "output_type": "display_data"
    },
    {
     "data": {
      "text/plain": [
       "[[1150965, 'Ranong', 9.9658, 98.6348, 31.960000000000036, 65, 87, 2.24]]"
      ]
     },
     "metadata": {},
     "output_type": "display_data"
    },
    {
     "data": {
      "text/plain": [
       "[[3932145, 'Pisco', -13.7, -76.2167, 18.03000000000003, 94, 90, 2.57]]"
      ]
     },
     "metadata": {},
     "output_type": "display_data"
    },
    {
     "data": {
      "text/plain": [
       "[[2025256, 'Chumikan', 54.7183, 135.315, 2.3100000000000023, 91, 100, 4.86]]"
      ]
     },
     "metadata": {},
     "output_type": "display_data"
    },
    {
     "data": {
      "text/plain": [
       "[[6316343,\n",
       "  'Alta Floresta',\n",
       "  -9.8756,\n",
       "  -56.0861,\n",
       "  22.79000000000002,\n",
       "  64,\n",
       "  76,\n",
       "  1.47]]"
      ]
     },
     "metadata": {},
     "output_type": "display_data"
    },
    {
     "data": {
      "text/plain": [
       "[[2980080, 'Saint-François', 46.4154, 3.9054, 6.689999999999998, 100, 0, 1.03]]"
      ]
     },
     "metadata": {},
     "output_type": "display_data"
    },
    {
     "data": {
      "text/plain": [
       "[[2022083, 'Alekseyevsk', 57.8406, 108.3492, 9.640000000000043, 40, 100, 3.11]]"
      ]
     },
     "metadata": {},
     "output_type": "display_data"
    },
    {
     "data": {
      "text/plain": [
       "[[1056899, 'Sambava', -14.2667, 50.1667, 24.600000000000023, 74, 6, 3.4]]"
      ]
     },
     "metadata": {},
     "output_type": "display_data"
    },
    {
     "data": {
      "text/plain": [
       "[[3563317, 'Corralillo', 22.9819, -80.5856, 24.200000000000045, 83, 82, 3.41]]"
      ]
     },
     "metadata": {},
     "output_type": "display_data"
    },
    {
     "name": "stdout",
     "output_type": "stream",
     "text": [
      "Missing field/result... skipping.\n"
     ]
    },
    {
     "data": {
      "text/plain": [
       "[[2338660, 'Yaan', 7.3833, 8.5667, 25.110000000000014, 82, 100, 2.63]]"
      ]
     },
     "metadata": {},
     "output_type": "display_data"
    },
    {
     "data": {
      "text/plain": [
       "[[3421982, 'Maniitsoq', 65.4167, -52.9, 1.9700000000000273, 82, 5, 1.57]]"
      ]
     },
     "metadata": {},
     "output_type": "display_data"
    },
    {
     "data": {
      "text/plain": [
       "[[4989133,\n",
       "  'Charter Township of Clinton',\n",
       "  42.587,\n",
       "  -82.9199,\n",
       "  7.590000000000032,\n",
       "  62,\n",
       "  9,\n",
       "  0.45]]"
      ]
     },
     "metadata": {},
     "output_type": "display_data"
    },
    {
     "data": {
      "text/plain": [
       "[[3897774, 'Buin', -33.7333, -70.75, 8.57000000000005, 64, 100, 1.42]]"
      ]
     },
     "metadata": {},
     "output_type": "display_data"
    },
    {
     "data": {
      "text/plain": [
       "[[3628473, 'San Cristobal', 7.7669, -72.225, 18.480000000000018, 96, 99, 0.51]]"
      ]
     },
     "metadata": {},
     "output_type": "display_data"
    },
    {
     "data": {
      "text/plain": [
       "[[3388456,\n",
       "  'São José da Coroa Grande',\n",
       "  -8.8978,\n",
       "  -35.1478,\n",
       "  23.670000000000016,\n",
       "  86,\n",
       "  52,\n",
       "  2.42]]"
      ]
     },
     "metadata": {},
     "output_type": "display_data"
    },
    {
     "data": {
      "text/plain": [
       "[[2449893, 'Tessalit', 20.1986, 1.0114, 30.660000000000025, 9, 65, 0.48]]"
      ]
     },
     "metadata": {},
     "output_type": "display_data"
    },
    {
     "data": {
      "text/plain": [
       "[[2435508, 'Benoy', 8.9833, 16.3199, 26.879999999999995, 53, 86, 2.03]]"
      ]
     },
     "metadata": {},
     "output_type": "display_data"
    },
    {
     "data": {
      "text/plain": [
       "[[3393400, 'Pacatuba', -3.9842, -38.6203, 26.650000000000034, 90, 74, 1.5]]"
      ]
     },
     "metadata": {},
     "output_type": "display_data"
    },
    {
     "data": {
      "text/plain": [
       "[[5870133, 'Nome', 64.5011, -165.4064, 12.04000000000002, 25, 1, 9.77]]"
      ]
     },
     "metadata": {},
     "output_type": "display_data"
    },
    {
     "data": {
      "text/plain": [
       "[[3457595,\n",
       "  'Martinópolis',\n",
       "  -22.1458,\n",
       "  -51.1708,\n",
       "  21.620000000000005,\n",
       "  55,\n",
       "  72,\n",
       "  2.3]]"
      ]
     },
     "metadata": {},
     "output_type": "display_data"
    },
    {
     "data": {
      "text/plain": [
       "[[286245, 'Sur', 22.5667, 59.5289, 35.80000000000001, 32, 99, 5.33]]"
      ]
     },
     "metadata": {},
     "output_type": "display_data"
    },
    {
     "name": "stdout",
     "output_type": "stream",
     "text": [
      "Missing field/result... skipping.\n"
     ]
    },
    {
     "data": {
      "text/plain": [
       "[[777019, 'Vardø', 70.3705, 31.1107, 5.420000000000016, 77, 100, 9.29]]"
      ]
     },
     "metadata": {},
     "output_type": "display_data"
    },
    {
     "data": {
      "text/plain": [
       "[[327234, 'Tulu Bolo', 8.6667, 38.2167, 17.450000000000045, 48, 25, 1.58]]"
      ]
     },
     "metadata": {},
     "output_type": "display_data"
    },
    {
     "data": {
      "text/plain": [
       "[[5847411, 'Kahului', 20.8947, -156.47, 24.74000000000001, 79, 40, 4.12]]"
      ]
     },
     "metadata": {},
     "output_type": "display_data"
    },
    {
     "data": {
      "text/plain": [
       "[[1218420, 'Seydi', 39.4816, 62.9137, 37.450000000000045, 11, 0, 2.23]]"
      ]
     },
     "metadata": {},
     "output_type": "display_data"
    },
    {
     "data": {
      "text/plain": [
       "[[3466704, 'Castro', -24.7911, -50.0119, 14.620000000000005, 95, 50, 1.47]]"
      ]
     },
     "metadata": {},
     "output_type": "display_data"
    },
    {
     "name": "stdout",
     "output_type": "stream",
     "text": [
      "Missing field/result... skipping.\n"
     ]
    },
    {
     "data": {
      "text/plain": [
       "[[4035249, 'Lufilufi', -13.8745, -171.5986, 30.439999999999998, 70, 58, 7.26]]"
      ]
     },
     "metadata": {},
     "output_type": "display_data"
    },
    {
     "data": {
      "text/plain": [
       "[[118063, 'Sabzawār', 36.2126, 57.6819, 31.600000000000023, 15, 0, 5.14]]"
      ]
     },
     "metadata": {},
     "output_type": "display_data"
    },
    {
     "data": {
      "text/plain": [
       "[[295277, 'Eilat', 29.5581, 34.9482, 28.910000000000025, 24, 0, 5.14]]"
      ]
     },
     "metadata": {},
     "output_type": "display_data"
    },
    {
     "data": {
      "text/plain": [
       "[[5915327,\n",
       "  'Cap-aux-Meules',\n",
       "  47.3821,\n",
       "  -61.8597,\n",
       "  3.0100000000000477,\n",
       "  93,\n",
       "  100,\n",
       "  1.54]]"
      ]
     },
     "metadata": {},
     "output_type": "display_data"
    },
    {
     "data": {
      "text/plain": [
       "[[2063056, 'Port Augusta', -32.5, 137.7667, 18.730000000000018, 22, 2, 2.99]]"
      ]
     },
     "metadata": {},
     "output_type": "display_data"
    },
    {
     "data": {
      "text/plain": [
       "[[3860443,\n",
       "  'Comodoro Rivadavia',\n",
       "  -45.8667,\n",
       "  -67.5,\n",
       "  2.920000000000016,\n",
       "  60,\n",
       "  0,\n",
       "  3.6]]"
      ]
     },
     "metadata": {},
     "output_type": "display_data"
    },
    {
     "data": {
      "text/plain": [
       "[[2264923, 'Peniche', 39.3558, -9.3811, 14.760000000000048, 91, 24, 5.51]]"
      ]
     },
     "metadata": {},
     "output_type": "display_data"
    },
    {
     "data": {
      "text/plain": [
       "[[6853140, 'Lesnoy', 57.6198, 63.0784, 24.939999999999998, 30, 33, 5.56]]"
      ]
     },
     "metadata": {},
     "output_type": "display_data"
    },
    {
     "data": {
      "text/plain": [
       "[[1067565, 'Beloha', -25.1667, 45.05, 19.120000000000005, 73, 0, 2.55]]"
      ]
     },
     "metadata": {},
     "output_type": "display_data"
    },
    {
     "data": {
      "text/plain": [
       "[[3517970, 'Pochutla', 15.7432, -96.4661, 24.900000000000034, 79, 20, 0.76]]"
      ]
     },
     "metadata": {},
     "output_type": "display_data"
    },
    {
     "data": {
      "text/plain": [
       "[[1024312, 'Mocuba', -16.8392, 36.9856, 17.150000000000034, 74, 0, 1.53]]"
      ]
     },
     "metadata": {},
     "output_type": "display_data"
    },
    {
     "data": {
      "text/plain": [
       "[[3697838, 'Contamana', -7.3333, -75.0167, 25.600000000000023, 70, 87, 0.22]]"
      ]
     },
     "metadata": {},
     "output_type": "display_data"
    },
    {
     "data": {
      "text/plain": [
       "[[2134814, 'Sola', -13.8833, 167.55, 25.430000000000007, 79, 100, 6.76]]"
      ]
     },
     "metadata": {},
     "output_type": "display_data"
    },
    {
     "data": {
      "text/plain": [
       "[[2527087,\n",
       "  'Tiznit Province',\n",
       "  29.5833,\n",
       "  -9.5,\n",
       "  22.100000000000023,\n",
       "  50,\n",
       "  100,\n",
       "  1.21]]"
      ]
     },
     "metadata": {},
     "output_type": "display_data"
    },
    {
     "data": {
      "text/plain": [
       "[[2633274, 'Akureyri', 65.6835, -18.0878, 9.960000000000036, 50, 40, 7.2]]"
      ]
     },
     "metadata": {},
     "output_type": "display_data"
    },
    {
     "data": {
      "text/plain": [
       "[[4004293, 'Ixtapa', 20.7, -105.2, 25.680000000000007, 79, 95, 0.82]]"
      ]
     },
     "metadata": {},
     "output_type": "display_data"
    },
    {
     "name": "stdout",
     "output_type": "stream",
     "text": [
      "Missing field/result... skipping.\n"
     ]
    },
    {
     "data": {
      "text/plain": [
       "[[1528998, 'Yumen', 40.2833, 97.2, 28.99000000000001, 12, 16, 10.89]]"
      ]
     },
     "metadata": {},
     "output_type": "display_data"
    },
    {
     "data": {
      "text/plain": [
       "[[1695546, 'Pandan', 14.0453, 124.1694, 30.560000000000002, 67, 71, 0.82]]"
      ]
     },
     "metadata": {},
     "output_type": "display_data"
    },
    {
     "data": {
      "text/plain": [
       "[[1052373, 'Beira', -19.8436, 34.8389, 18.05000000000001, 88, 20, 2.54]]"
      ]
     },
     "metadata": {},
     "output_type": "display_data"
    },
    {
     "data": {
      "text/plain": [
       "[[3436547, 'Yuty', -26.6, -56.25, 12.640000000000043, 70, 38, 4.01]]"
      ]
     },
     "metadata": {},
     "output_type": "display_data"
    },
    {
     "data": {
      "text/plain": [
       "[[3530103,\n",
       "  'San Miguel de Cozumel',\n",
       "  20.5083,\n",
       "  -86.9458,\n",
       "  26.730000000000018,\n",
       "  84,\n",
       "  38,\n",
       "  3.74]]"
      ]
     },
     "metadata": {},
     "output_type": "display_data"
    },
    {
     "data": {
      "text/plain": [
       "[[1708743, 'Kinablangan', 7.6947, 126.5503, 27.0, 77, 100, 0.95]]"
      ]
     },
     "metadata": {},
     "output_type": "display_data"
    },
    {
     "data": {
      "text/plain": [
       "[[1268567, 'Kakching', 24.4833, 93.9833, 28.879999999999995, 33, 6, 2.09]]"
      ]
     },
     "metadata": {},
     "output_type": "display_data"
    },
    {
     "data": {
      "text/plain": [
       "[[1696188, 'Palauig', 15.435, 119.9045, 30.970000000000027, 68, 76, 3.03]]"
      ]
     },
     "metadata": {},
     "output_type": "display_data"
    },
    {
     "data": {
      "text/plain": [
       "[[1735902, 'Sibu', 2.3, 111.8167, 32.170000000000016, 62, 40, 0.38]]"
      ]
     },
     "metadata": {},
     "output_type": "display_data"
    },
    {
     "data": {
      "text/plain": [
       "[[3578351,\n",
       "  'Petites Anses',\n",
       "  15.8501,\n",
       "  -61.6442,\n",
       "  23.730000000000018,\n",
       "  69,\n",
       "  4,\n",
       "  7.78]]"
      ]
     },
     "metadata": {},
     "output_type": "display_data"
    },
    {
     "data": {
      "text/plain": [
       "[[2323675, 'Sapele', 5.8941, 5.6767, 24.27000000000004, 96, 94, 1.08]]"
      ]
     },
     "metadata": {},
     "output_type": "display_data"
    },
    {
     "data": {
      "text/plain": [
       "[[1524606, 'Derzhavīnsk', 51.1, 66.3167, 27.680000000000007, 27, 64, 5]]"
      ]
     },
     "metadata": {},
     "output_type": "display_data"
    },
    {
     "data": {
      "text/plain": [
       "[[2169068, 'Deniliquin', -35.5333, 144.9667, 13.890000000000043, 36, 0, 2.57]]"
      ]
     },
     "metadata": {},
     "output_type": "display_data"
    },
    {
     "data": {
      "text/plain": [
       "[[2077895, 'Alice Springs', -23.7, 133.8833, 18.75, 27, 64, 4.21]]"
      ]
     },
     "metadata": {},
     "output_type": "display_data"
    },
    {
     "data": {
      "text/plain": [
       "[[5557293, 'Sitka', 57.0531, -135.33, 11.939999999999998, 62, 90, 6.17]]"
      ]
     },
     "metadata": {},
     "output_type": "display_data"
    },
    {
     "data": {
      "text/plain": [
       "[[2318044, 'Yola', 9.2, 12.4833, 26.670000000000016, 60, 32, 1.64]]"
      ]
     },
     "metadata": {},
     "output_type": "display_data"
    },
    {
     "data": {
      "text/plain": [
       "[[1062663, 'Mahajanga', -15.7167, 46.3167, 27.010000000000048, 61, 20, 2.06]]"
      ]
     },
     "metadata": {},
     "output_type": "display_data"
    },
    {
     "data": {
      "text/plain": [
       "[[4315588, 'Baton Rouge', 30.4508, -91.1545, 19.879999999999995, 92, 1, 2.57]]"
      ]
     },
     "metadata": {},
     "output_type": "display_data"
    },
    {
     "data": {
      "text/plain": [
       "[[6067472, 'Marystown', 47.1666, -55.1483, 4.260000000000048, 86, 100, 5.54]]"
      ]
     },
     "metadata": {},
     "output_type": "display_data"
    },
    {
     "data": {
      "text/plain": [
       "[[2654970, 'Brae', 60.3964, -1.353, 6.9500000000000455, 90, 87, 2.02]]"
      ]
     },
     "metadata": {},
     "output_type": "display_data"
    },
    {
     "data": {
      "text/plain": [
       "[[1497899, \"Gal'bshtadt\", 53.2264, 78.9845, 22.370000000000005, 32, 20, 4.4]]"
      ]
     },
     "metadata": {},
     "output_type": "display_data"
    },
    {
     "data": {
      "text/plain": [
       "[[1500125, 'Lyubinskiy', 55.1542, 72.6925, 25.82000000000005, 34, 15, 6.42]]"
      ]
     },
     "metadata": {},
     "output_type": "display_data"
    },
    {
     "data": {
      "text/plain": [
       "[[6111867,\n",
       "  'Port Hawkesbury',\n",
       "  45.6169,\n",
       "  -61.3485,\n",
       "  4.439999999999998,\n",
       "  95,\n",
       "  90,\n",
       "  1.34]]"
      ]
     },
     "metadata": {},
     "output_type": "display_data"
    },
    {
     "data": {
      "text/plain": [
       "[[1256705, 'Shāhpura', 27.3833, 75.9667, 33.629999999999995, 24, 75, 5.77]]"
      ]
     },
     "metadata": {},
     "output_type": "display_data"
    },
    {
     "data": {
      "text/plain": [
       "[[933995, 'Souillac', -20.5167, 57.5167, 26.210000000000036, 78, 40, 3.56]]"
      ]
     },
     "metadata": {},
     "output_type": "display_data"
    },
    {
     "data": {
      "text/plain": [
       "[[7671223, 'Kloulklubed', 7.0419, 134.2556, 28.28000000000003, 81, 100, 9.37]]"
      ]
     },
     "metadata": {},
     "output_type": "display_data"
    },
    {
     "data": {
      "text/plain": [
       "[[3572462, 'Dunmore Town', 25.5, -76.65, 25.629999999999995, 78, 1, 5.97]]"
      ]
     },
     "metadata": {},
     "output_type": "display_data"
    },
    {
     "data": {
      "text/plain": [
       "[[2738381, 'Lata', 40.1629, -8.3327, 13.879999999999995, 94, 12, 0.9]]"
      ]
     },
     "metadata": {},
     "output_type": "display_data"
    },
    {
     "data": {
      "text/plain": [
       "[[1489828, 'Teeli', 51.0333, 90.2333, 14.230000000000018, 26, 5, 1.65]]"
      ]
     },
     "metadata": {},
     "output_type": "display_data"
    },
    {
     "data": {
      "text/plain": [
       "[[3443631, 'Bella Union', -30.2752, -57.6007, 6.78000000000003, 76, 0, 2.81]]"
      ]
     },
     "metadata": {},
     "output_type": "display_data"
    },
    {
     "data": {
      "text/plain": [
       "[[4845585, 'Westport', 41.1415, -73.3579, 8.379999999999995, 85, 90, 1.34]]"
      ]
     },
     "metadata": {},
     "output_type": "display_data"
    },
    {
     "data": {
      "text/plain": [
       "[[3980627,\n",
       "  'Valle de Allende',\n",
       "  26.9333,\n",
       "  -105.4,\n",
       "  25.54000000000002,\n",
       "  21,\n",
       "  44,\n",
       "  4.57]]"
      ]
     },
     "metadata": {},
     "output_type": "display_data"
    },
    {
     "data": {
      "text/plain": [
       "[[2145554, 'Ulladulla', -35.35, 150.4667, 14.370000000000005, 57, 71, 4.35]]"
      ]
     },
     "metadata": {},
     "output_type": "display_data"
    },
    {
     "data": {
      "text/plain": [
       "[[1640972, 'Katobu', -4.9408, 122.5276, 30.700000000000045, 58, 97, 1.06]]"
      ]
     },
     "metadata": {},
     "output_type": "display_data"
    },
    {
     "name": "stdout",
     "output_type": "stream",
     "text": [
      "Missing field/result... skipping.\n"
     ]
    },
    {
     "data": {
      "text/plain": [
       "[[1280849, 'Kashgar', 39.4547, 75.9797, 29.560000000000002, 16, 20, 4.06]]"
      ]
     },
     "metadata": {},
     "output_type": "display_data"
    },
    {
     "data": {
      "text/plain": [
       "[[2027296, 'Aykhal', 66, 111.5, 15.980000000000018, 42, 21, 5.95]]"
      ]
     },
     "metadata": {},
     "output_type": "display_data"
    },
    {
     "data": {
      "text/plain": [
       "[[1651531, 'Ambon City', -3.6954, 128.1814, 30.08000000000004, 66, 40, 4.07]]"
      ]
     },
     "metadata": {},
     "output_type": "display_data"
    },
    {
     "data": {
      "text/plain": [
       "[[3141310, 'Rørvik', 64.8621, 11.2373, 8.390000000000043, 84, 10, 2.34]]"
      ]
     },
     "metadata": {},
     "output_type": "display_data"
    },
    {
     "data": {
      "text/plain": [
       "[[2295684, 'Salaga', 8.5508, -0.5188, 25.960000000000036, 79, 27, 2.67]]"
      ]
     },
     "metadata": {},
     "output_type": "display_data"
    },
    {
     "data": {
      "text/plain": [
       "[[2022773, 'Khandyga', 62.6667, 135.6, 16.350000000000023, 59, 100, 4.41]]"
      ]
     },
     "metadata": {},
     "output_type": "display_data"
    },
    {
     "data": {
      "text/plain": [
       "[[1842966, 'Gijang', 35.2442, 129.2139, 25.850000000000023, 61, 0, 3.38]]"
      ]
     },
     "metadata": {},
     "output_type": "display_data"
    },
    {
     "data": {
      "text/plain": [
       "[[1214026, 'Sabang', 5.8933, 95.3214, 28.78000000000003, 73, 100, 8.68]]"
      ]
     },
     "metadata": {},
     "output_type": "display_data"
    },
    {
     "data": {
      "text/plain": [
       "[[3616234, 'Somotillo', 13.0433, -86.9064, 25.450000000000045, 85, 88, 0.7]]"
      ]
     },
     "metadata": {},
     "output_type": "display_data"
    },
    {
     "data": {
      "text/plain": [
       "[[1640902, 'Kawalu', -7.3817, 108.2082, 29.810000000000002, 61, 51, 2.02]]"
      ]
     },
     "metadata": {},
     "output_type": "display_data"
    },
    {
     "data": {
      "text/plain": [
       "[[4301317, 'Morehead', 37.2711, -87.1764, 11.950000000000045, 92, 90, 0]]"
      ]
     },
     "metadata": {},
     "output_type": "display_data"
    },
    {
     "data": {
      "text/plain": [
       "[[2318123, 'Yenagoa', 4.9247, 6.2642, 24.210000000000036, 95, 72, 0.62]]"
      ]
     },
     "metadata": {},
     "output_type": "display_data"
    },
    {
     "data": {
      "text/plain": [
       "[[964137, 'Pretoria', -25.7449, 28.1878, 7.060000000000002, 53, 72, 3.26]]"
      ]
     },
     "metadata": {},
     "output_type": "display_data"
    },
    {
     "data": {
      "text/plain": [
       "[[3453821, 'Pindorama', -21.1858, -48.9072, 22.03000000000003, 54, 100, 0.92]]"
      ]
     },
     "metadata": {},
     "output_type": "display_data"
    },
    {
     "data": {
      "text/plain": [
       "[[296852, 'Erzin', 36.9559, 36.2, 22.230000000000018, 74, 44, 1.24]]"
      ]
     },
     "metadata": {},
     "output_type": "display_data"
    },
    {
     "data": {
      "text/plain": [
       "[[1637001, 'Biak', -0.9131, 122.8766, 27.54000000000002, 76, 98, 2.31]]"
      ]
     },
     "metadata": {},
     "output_type": "display_data"
    },
    {
     "name": "stdout",
     "output_type": "stream",
     "text": [
      "Missing field/result... skipping.\n"
     ]
    },
    {
     "data": {
      "text/plain": [
       "[[3402648, 'Carutapera', -1.195, -46.02, 24.04000000000002, 92, 18, 2.24]]"
      ]
     },
     "metadata": {},
     "output_type": "display_data"
    },
    {
     "data": {
      "text/plain": [
       "[[4760059,\n",
       "  'Fredericksburg',\n",
       "  38.3032,\n",
       "  -77.4605,\n",
       "  10.29000000000002,\n",
       "  91,\n",
       "  90,\n",
       "  0.45]]"
      ]
     },
     "metadata": {},
     "output_type": "display_data"
    },
    {
     "data": {
      "text/plain": [
       "[[2392087, 'Porto-Novo', 6.4965, 2.6036, 26.360000000000014, 85, 36, 2.21]]"
      ]
     },
     "metadata": {},
     "output_type": "display_data"
    },
    {
     "data": {
      "text/plain": [
       "[[5861897, 'Fairbanks', 64.8378, -147.7164, 10.850000000000023, 50, 75, 7.2]]"
      ]
     },
     "metadata": {},
     "output_type": "display_data"
    },
    {
     "data": {
      "text/plain": [
       "[[5972291,\n",
       "  'Havre-St-Pierre',\n",
       "  50.2334,\n",
       "  -63.5986,\n",
       "  0.20000000000004547,\n",
       "  93,\n",
       "  1,\n",
       "  1.54]]"
      ]
     },
     "metadata": {},
     "output_type": "display_data"
    },
    {
     "data": {
      "text/plain": [
       "[[1712961, 'Gigmoto', 13.7796, 124.39, 29.99000000000001, 74, 75, 2.22]]"
      ]
     },
     "metadata": {},
     "output_type": "display_data"
    },
    {
     "data": {
      "text/plain": [
       "[[3407762, 'Amapá', 1, -52, 21.470000000000027, 99, 30, 0.71]]"
      ]
     },
     "metadata": {},
     "output_type": "display_data"
    },
    {
     "data": {
      "text/plain": [
       "[[4160795, 'Key Largo', 25.0865, -80.4473, 25.720000000000027, 67, 2, 3.75]]"
      ]
     },
     "metadata": {},
     "output_type": "display_data"
    },
    {
     "data": {
      "text/plain": [
       "[[1636308, 'Manokwari', -0.8667, 134.0833, 28.970000000000027, 75, 100, 2.01]]"
      ]
     },
     "metadata": {},
     "output_type": "display_data"
    },
    {
     "data": {
      "text/plain": [
       "[[2032614, 'Baruun-Urt', 46.6806, 113.2792, 15.470000000000027, 36, 57, 1.89]]"
      ]
     },
     "metadata": {},
     "output_type": "display_data"
    },
    {
     "data": {
      "text/plain": [
       "[[6620339, 'Karratha', -20.7377, 116.8463, 20.24000000000001, 81, 99, 8.06]]"
      ]
     },
     "metadata": {},
     "output_type": "display_data"
    },
    {
     "data": {
      "text/plain": [
       "[[5367788, 'Lompoc', 34.6391, -120.4579, 12.120000000000005, 76, 90, 5.14]]"
      ]
     },
     "metadata": {},
     "output_type": "display_data"
    },
    {
     "data": {
      "text/plain": [
       "[[2521582, 'Arona', 28.0996, -16.681, 14.28000000000003, 73, 20, 0.89]]"
      ]
     },
     "metadata": {},
     "output_type": "display_data"
    },
    {
     "data": {
      "text/plain": [
       "[[4026082,\n",
       "  'Lázaro Cárdenas',\n",
       "  17.9583,\n",
       "  -102.2,\n",
       "  26.870000000000005,\n",
       "  73,\n",
       "  71,\n",
       "  1.61]]"
      ]
     },
     "metadata": {},
     "output_type": "display_data"
    },
    {
     "data": {
      "text/plain": [
       "[[1244926, 'Hambantota', 6.1241, 81.1185, 30.980000000000018, 63, 83, 9.88]]"
      ]
     },
     "metadata": {},
     "output_type": "display_data"
    },
    {
     "data": {
      "text/plain": [
       "[[962367, 'Richards Bay', -28.783, 32.0377, 17.80000000000001, 86, 36, 3.7]]"
      ]
     },
     "metadata": {},
     "output_type": "display_data"
    },
    {
     "data": {
      "text/plain": [
       "[[3419842, 'Sisimiut', 66.9395, -53.6735, 3.170000000000016, 71, 18, 2.25]]"
      ]
     },
     "metadata": {},
     "output_type": "display_data"
    },
    {
     "data": {
      "text/plain": [
       "[[3452483, 'Prado', -17.3411, -39.2208, 22.680000000000007, 92, 36, 3]]"
      ]
     },
     "metadata": {},
     "output_type": "display_data"
    },
    {
     "data": {
      "text/plain": [
       "[[6144195, 'Senneterre', 48.3835, -77.2328, 4.1200000000000045, 58, 0, 1.14]]"
      ]
     },
     "metadata": {},
     "output_type": "display_data"
    },
    {
     "data": {
      "text/plain": [
       "[[2422442, 'Dabola', 10.75, -11.1167, 23.379999999999995, 83, 80, 1.69]]"
      ]
     },
     "metadata": {},
     "output_type": "display_data"
    },
    {
     "data": {
      "text/plain": [
       "[[6690296, 'Saint-Joseph', -21.3667, 55.6167, 23.74000000000001, 70, 0, 3.16]]"
      ]
     },
     "metadata": {},
     "output_type": "display_data"
    },
    {
     "data": {
      "text/plain": [
       "[[5546220, 'Saint George', 37.1041, -113.5841, 25.83000000000004, 14, 1, 0.89]]"
      ]
     },
     "metadata": {},
     "output_type": "display_data"
    },
    {
     "data": {
      "text/plain": [
       "[[1516589, 'Zhezkazgan', 47.8043, 67.7144, 29.80000000000001, 19, 37, 5.81]]"
      ]
     },
     "metadata": {},
     "output_type": "display_data"
    },
    {
     "data": {
      "text/plain": [
       "[[2208248,\n",
       "  'Kaitangata',\n",
       "  -46.2817,\n",
       "  169.8464,\n",
       "  10.129999999999995,\n",
       "  98,\n",
       "  100,\n",
       "  4.54]]"
      ]
     },
     "metadata": {},
     "output_type": "display_data"
    },
    {
     "data": {
      "text/plain": [
       "[[4323873, 'Estelle', 29.8458, -90.1067, 24.110000000000014, 70, 1, 2.57]]"
      ]
     },
     "metadata": {},
     "output_type": "display_data"
    },
    {
     "data": {
      "text/plain": [
       "[[5779548, 'Payson', 40.0444, -111.7321, 18.140000000000043, 27, 1, 0.58]]"
      ]
     },
     "metadata": {},
     "output_type": "display_data"
    },
    {
     "name": "stdout",
     "output_type": "stream",
     "text": [
      "Missing field/result... skipping.\n"
     ]
    },
    {
     "data": {
      "text/plain": [
       "[[2276492, 'Harper', 4.375, -7.7169, 26.140000000000043, 88, 62, 3.35]]"
      ]
     },
     "metadata": {},
     "output_type": "display_data"
    },
    {
     "data": {
      "text/plain": [
       "[[3587498, 'Acajutla', 13.5928, -89.8275, 26.560000000000002, 81, 26, 2.5]]"
      ]
     },
     "metadata": {},
     "output_type": "display_data"
    },
    {
     "name": "stdout",
     "output_type": "stream",
     "text": [
      "Missing field/result... skipping.\n"
     ]
    },
    {
     "data": {
      "text/plain": [
       "[[1641977, 'Kalianget', -7.05, 113.9333, 29.420000000000016, 67, 30, 1.55]]"
      ]
     },
     "metadata": {},
     "output_type": "display_data"
    },
    {
     "data": {
      "text/plain": [
       "[[2068110, 'Kununurra', -15.7667, 128.7333, 30.99000000000001, 23, 46, 1.54]]"
      ]
     },
     "metadata": {},
     "output_type": "display_data"
    },
    {
     "data": {
      "text/plain": [
       "[[2129961, 'Ichinohe', 40.2069, 141.3017, 17.08000000000004, 59, 55, 6.7]]"
      ]
     },
     "metadata": {},
     "output_type": "display_data"
    },
    {
     "data": {
      "text/plain": [
       "[[5387494, 'Ridgecrest', 35.6225, -117.6709, 26.950000000000045, 26, 1, 2.24]]"
      ]
     },
     "metadata": {},
     "output_type": "display_data"
    },
    {
     "data": {
      "text/plain": [
       "[[3127889, 'Boiro', 42.65, -8.9, 11.580000000000041, 80, 31, 3.74]]"
      ]
     },
     "metadata": {},
     "output_type": "display_data"
    },
    {
     "data": {
      "text/plain": [
       "[[6144312, 'Sept-Îles', 50.2001, -66.3821, 3.3000000000000114, 83, 1, 1.03]]"
      ]
     },
     "metadata": {},
     "output_type": "display_data"
    },
    {
     "data": {
      "text/plain": [
       "[[2093685, 'Kokopo', -4.352, 152.2633, 28.79000000000002, 72, 77, 5.19]]"
      ]
     },
     "metadata": {},
     "output_type": "display_data"
    },
    {
     "data": {
      "text/plain": [
       "[[3379507, 'Bartica', 6.4, -58.6167, 24.180000000000007, 99, 62, 0.72]]"
      ]
     },
     "metadata": {},
     "output_type": "display_data"
    },
    {
     "name": "stdout",
     "output_type": "stream",
     "text": [
      "Missing field/result... skipping.\n"
     ]
    },
    {
     "data": {
      "text/plain": [
       "[[2514301, 'Mahon', 39.8885, 4.2658, 16.310000000000002, 77, 0, 2.57]]"
      ]
     },
     "metadata": {},
     "output_type": "display_data"
    },
    {
     "data": {
      "text/plain": [
       "[[4552215, 'Stillwater', 36.1156, -97.0584, 12.660000000000025, 86, 1, 4.12]]"
      ]
     },
     "metadata": {},
     "output_type": "display_data"
    },
    {
     "data": {
      "text/plain": [
       "[[686090, 'Asău', 46.4333, 26.4, 12.75, 95, 100, 0.72]]"
      ]
     },
     "metadata": {},
     "output_type": "display_data"
    },
    {
     "data": {
      "text/plain": [
       "[[53157, 'Qandala', 11.472, 49.8728, 32.670000000000016, 50, 0, 1.19]]"
      ]
     },
     "metadata": {},
     "output_type": "display_data"
    },
    {
     "data": {
      "text/plain": [
       "[[1721720, 'Cabatuan', 10.8794, 122.486, 31.310000000000002, 65, 46, 3.24]]"
      ]
     },
     "metadata": {},
     "output_type": "display_data"
    },
    {
     "data": {
      "text/plain": [
       "[[2021799,\n",
       "  'Konstantinovka',\n",
       "  49.6167,\n",
       "  127.9833,\n",
       "  20.05000000000001,\n",
       "  43,\n",
       "  60,\n",
       "  2.33]]"
      ]
     },
     "metadata": {},
     "output_type": "display_data"
    },
    {
     "data": {
      "text/plain": [
       "[[4998842, 'Lapeer', 43.0514, -83.3188, 5.770000000000039, 100, 1, 0]]"
      ]
     },
     "metadata": {},
     "output_type": "display_data"
    },
    {
     "data": {
      "text/plain": [
       "[[3981391, 'Tomatlán', 19.9333, -105.25, 22.55000000000001, 76, 97, 0.62]]"
      ]
     },
     "metadata": {},
     "output_type": "display_data"
    },
    {
     "data": {
      "text/plain": [
       "[[1293960, 'Taunggyi', 20.7833, 97.0333, 22.54000000000002, 67, 100, 0.54]]"
      ]
     },
     "metadata": {},
     "output_type": "display_data"
    },
    {
     "name": "stdout",
     "output_type": "stream",
     "text": [
      "Missing field/result... skipping.\n"
     ]
    },
    {
     "data": {
      "text/plain": [
       "[[3871336, 'Santiago', -33.4569, -70.6483, 11.230000000000018, 68, 20, 0.79]]"
      ]
     },
     "metadata": {},
     "output_type": "display_data"
    },
    {
     "data": {
      "text/plain": [
       "[[2194098, 'Ahipara', -35.1667, 173.1667, 13.490000000000009, 73, 79, 6.9]]"
      ]
     },
     "metadata": {},
     "output_type": "display_data"
    },
    {
     "data": {
      "text/plain": [
       "[[368246, 'Raja', 8.4596, 25.678, 24.710000000000036, 62, 9, 2.27]]"
      ]
     },
     "metadata": {},
     "output_type": "display_data"
    },
    {
     "data": {
      "text/plain": [
       "[[3464008, 'Esmeraldas', -19.7625, -44.3139, 20.480000000000018, 61, 95, 1.44]]"
      ]
     },
     "metadata": {},
     "output_type": "display_data"
    },
    {
     "data": {
      "text/plain": [
       "[[5983720, 'Iqaluit', 63.7506, -68.5145, -4.149999999999977, 22, 90, 2.57]]"
      ]
     },
     "metadata": {},
     "output_type": "display_data"
    },
    {
     "data": {
      "text/plain": [
       "[[2446796, 'Bilma', 18.6853, 12.9164, 29.0, 10, 1, 3.65]]"
      ]
     },
     "metadata": {},
     "output_type": "display_data"
    },
    {
     "data": {
      "text/plain": [
       "[[5380420, 'Pacifica', 37.6138, -122.4869, 11.439999999999998, 86, 90, 3.58]]"
      ]
     },
     "metadata": {},
     "output_type": "display_data"
    },
    {
     "data": {
      "text/plain": [
       "[[1529484, 'Kumul', 42.8, 93.45, 29.75, 12, 96, 3.82]]"
      ]
     },
     "metadata": {},
     "output_type": "display_data"
    },
    {
     "data": {
      "text/plain": [
       "[[3674676, 'Mitú', 1.1983, -70.1733, 22.410000000000025, 99, 99, 0.26]]"
      ]
     },
     "metadata": {},
     "output_type": "display_data"
    },
    {
     "data": {
      "text/plain": [
       "[[2156643,\n",
       "  'Mount Gambier',\n",
       "  -37.8333,\n",
       "  140.7667,\n",
       "  13.950000000000045,\n",
       "  58,\n",
       "  10,\n",
       "  2.57]]"
      ]
     },
     "metadata": {},
     "output_type": "display_data"
    },
    {
     "data": {
      "text/plain": [
       "[[4033557, 'Tautira', -17.7333, -149.15, 25.010000000000048, 71, 43, 6.19]]"
      ]
     },
     "metadata": {},
     "output_type": "display_data"
    },
    {
     "data": {
      "text/plain": [
       "[[343300, 'Asmara', 15.3333, 38.9333, 20.700000000000045, 32, 28, 1.66]]"
      ]
     },
     "metadata": {},
     "output_type": "display_data"
    },
    {
     "data": {
      "text/plain": [
       "[[1785036, 'Zhangye', 38.9342, 100.4517, 30.32000000000005, 11, 1, 6.26]]"
      ]
     },
     "metadata": {},
     "output_type": "display_data"
    },
    {
     "data": {
      "text/plain": [
       "[[215605, 'Kabare', -2.4683, 28.8242, 16.78000000000003, 94, 84, 0.48]]"
      ]
     },
     "metadata": {},
     "output_type": "display_data"
    },
    {
     "data": {
      "text/plain": [
       "[[3440777, 'Rocha', -34.4833, -54.3333, 6.670000000000016, 61, 59, 4.96]]"
      ]
     },
     "metadata": {},
     "output_type": "display_data"
    },
    {
     "name": "stdout",
     "output_type": "stream",
     "text": [
      "Missing field/result... skipping.\n"
     ]
    },
    {
     "data": {
      "text/plain": [
       "[[2082539, 'Merauke', -8.4667, 140.3333, 28.720000000000027, 63, 75, 5.95]]"
      ]
     },
     "metadata": {},
     "output_type": "display_data"
    },
    {
     "data": {
      "text/plain": [
       "[[555681, 'Itum-Kale', 42.7356, 45.5758, 20.600000000000023, 65, 9, 2.15]]"
      ]
     },
     "metadata": {},
     "output_type": "display_data"
    },
    {
     "data": {
      "text/plain": [
       "[[2037611, 'Dongning', 44.0622, 131.1207, 22.620000000000005, 37, 52, 1.94]]"
      ]
     },
     "metadata": {},
     "output_type": "display_data"
    },
    {
     "data": {
      "text/plain": [
       "[[1714733, 'Dingle', 10.9995, 122.6711, 32.44, 61, 40, 3.04]]"
      ]
     },
     "metadata": {},
     "output_type": "display_data"
    },
    {
     "data": {
      "text/plain": [
       "[[4047434, 'Russell', 32.3502, -85.1999, 15.860000000000014, 79, 72, 3.21]]"
      ]
     },
     "metadata": {},
     "output_type": "display_data"
    },
    {
     "data": {
      "text/plain": [
       "[[2524028, 'Mussomeli', 37.5778, 13.7513, 12.890000000000043, 67, 1, 1.5]]"
      ]
     },
     "metadata": {},
     "output_type": "display_data"
    },
    {
     "name": "stdout",
     "output_type": "stream",
     "text": [
      "Missing field/result... skipping.\n"
     ]
    },
    {
     "data": {
      "text/plain": [
       "[[1631766, 'Pekalongan', -6.8886, 109.6753, 28.5, 67, 99, 2.64]]"
      ]
     },
     "metadata": {},
     "output_type": "display_data"
    },
    {
     "data": {
      "text/plain": [
       "[[1255647, 'Srikakulam', 18.3, 83.9, 34.82000000000005, 50, 76, 3.33]]"
      ]
     },
     "metadata": {},
     "output_type": "display_data"
    },
    {
     "data": {
      "text/plain": [
       "[[3372760,\n",
       "  'Praia da Vitória',\n",
       "  38.7333,\n",
       "  -27.0667,\n",
       "  16.140000000000043,\n",
       "  94,\n",
       "  40,\n",
       "  4.51]]"
      ]
     },
     "metadata": {},
     "output_type": "display_data"
    },
    {
     "data": {
      "text/plain": [
       "[[3460225, 'Jaguarari', -10.2639, -40.1958, 15.79000000000002, 95, 100, 2.4]]"
      ]
     },
     "metadata": {},
     "output_type": "display_data"
    },
    {
     "data": {
      "text/plain": [
       "[[3412093,\n",
       "  'Vestmannaeyjar',\n",
       "  63.4427,\n",
       "  -20.2734,\n",
       "  7.4500000000000455,\n",
       "  95,\n",
       "  100,\n",
       "  14.62]]"
      ]
     },
     "metadata": {},
     "output_type": "display_data"
    },
    {
     "name": "stdout",
     "output_type": "stream",
     "text": [
      "Missing field/result... skipping.\n"
     ]
    },
    {
     "data": {
      "text/plain": [
       "[[1254046, 'Tura', 25.5198, 90.2201, 29.120000000000005, 68, 8, 2.27]]"
      ]
     },
     "metadata": {},
     "output_type": "display_data"
    },
    {
     "data": {
      "text/plain": [
       "[[3576994,\n",
       "  'Cockburn Town',\n",
       "  21.4612,\n",
       "  -71.1419,\n",
       "  26.480000000000018,\n",
       "  80,\n",
       "  7,\n",
       "  7.98]]"
      ]
     },
     "metadata": {},
     "output_type": "display_data"
    },
    {
     "data": {
      "text/plain": [
       "[[7117100, 'Vila', 42.0304, -8.1588, 9.970000000000027, 89, 99, 1.68]]"
      ]
     },
     "metadata": {},
     "output_type": "display_data"
    },
    {
     "data": {
      "text/plain": [
       "[[2016910, \"Severobaykal'sk\", 55.65, 109.3167, 5.5, 57, 65, 0.82]]"
      ]
     },
     "metadata": {},
     "output_type": "display_data"
    },
    {
     "data": {
      "text/plain": [
       "[[4877138, 'Spencer', 43.1414, -95.1444, 11.610000000000014, 69, 1, 2.57]]"
      ]
     },
     "metadata": {},
     "output_type": "display_data"
    },
    {
     "data": {
      "text/plain": [
       "[[3939168, 'Huarmey', -10.0681, -78.1522, 18.370000000000005, 91, 35, 2.47]]"
      ]
     },
     "metadata": {},
     "output_type": "display_data"
    },
    {
     "data": {
      "text/plain": [
       "[[1633419, 'Padang', -0.9492, 100.3543, 30.230000000000018, 67, 72, 2.43]]"
      ]
     },
     "metadata": {},
     "output_type": "display_data"
    },
    {
     "data": {
      "text/plain": [
       "[[4726521, 'San Patricio', 28.017, -97.5169, 23.950000000000045, 88, 2, 2.38]]"
      ]
     },
     "metadata": {},
     "output_type": "display_data"
    },
    {
     "name": "stdout",
     "output_type": "stream",
     "text": [
      "Missing field/result... skipping.\n"
     ]
    },
    {
     "data": {
      "text/plain": [
       "[[778829, 'Lyngseidet', 69.5763, 20.2189, 6.3700000000000045, 74, 26, 1.84]]"
      ]
     },
     "metadata": {},
     "output_type": "display_data"
    },
    {
     "name": "stdout",
     "output_type": "stream",
     "text": [
      "Missing field/result... skipping.\n"
     ]
    },
    {
     "data": {
      "text/plain": [
       "[[2610343, 'Vestmanna', 62.1564, -7.1664, 6.510000000000048, 100, 90, 4.4]]"
      ]
     },
     "metadata": {},
     "output_type": "display_data"
    },
    {
     "data": {
      "text/plain": [
       "[[3685702, 'Cravo Norte', 6.3017, -70.2041, 23.52000000000004, 93, 43, 2.26]]"
      ]
     },
     "metadata": {},
     "output_type": "display_data"
    },
    {
     "name": "stdout",
     "output_type": "stream",
     "text": [
      "Missing field/result... skipping.\n"
     ]
    },
    {
     "data": {
      "text/plain": [
       "[[86049, 'Jalu', 29.0331, 21.5482, 27.83000000000004, 31, 2, 3.4]]"
      ]
     },
     "metadata": {},
     "output_type": "display_data"
    },
    {
     "data": {
      "text/plain": [
       "[[5969025,\n",
       "  'Haines Junction',\n",
       "  60.7522,\n",
       "  -137.5108,\n",
       "  7.970000000000027,\n",
       "  53,\n",
       "  100,\n",
       "  4.63]]"
      ]
     },
     "metadata": {},
     "output_type": "display_data"
    },
    {
     "data": {
      "text/plain": [
       "[[935616, 'Le Port', -20.9373, 55.2919, 24.170000000000016, 60, 0, 1.01]]"
      ]
     },
     "metadata": {},
     "output_type": "display_data"
    },
    {
     "data": {
      "text/plain": [
       "[[2108502, 'Honiara', -9.4333, 159.95, 27.090000000000032, 84, 78, 0.85]]"
      ]
     },
     "metadata": {},
     "output_type": "display_data"
    },
    {
     "data": {
      "text/plain": [
       "[[902721, 'Mwense', -10.3845, 28.698, 12.760000000000048, 63, 66, 1.29]]"
      ]
     },
     "metadata": {},
     "output_type": "display_data"
    },
    {
     "data": {
      "text/plain": [
       "[[2112444, 'Kamaishi', 39.2667, 141.8833, 17.53000000000003, 54, 34, 6.82]]"
      ]
     },
     "metadata": {},
     "output_type": "display_data"
    },
    {
     "data": {
      "text/plain": [
       "[[1803331,\n",
       "  'Linxia Chengguanzhen',\n",
       "  35.6003,\n",
       "  103.2064,\n",
       "  24.379999999999995,\n",
       "  28,\n",
       "  63,\n",
       "  1.83]]"
      ]
     },
     "metadata": {},
     "output_type": "display_data"
    },
    {
     "data": {
      "text/plain": [
       "[[4011741, 'Durango', 24.8333, -104.8333, 22.950000000000045, 40, 80, 0.64]]"
      ]
     },
     "metadata": {},
     "output_type": "display_data"
    },
    {
     "data": {
      "text/plain": [
       "[[2137748, 'Voh', -20.9667, 164.7, 21.670000000000016, 59, 67, 3.79]]"
      ]
     },
     "metadata": {},
     "output_type": "display_data"
    },
    {
     "data": {
      "text/plain": [
       "[[4946620, 'Palmer', 42.1584, -72.3287, 7.240000000000009, 75, 90, 0.45]]"
      ]
     },
     "metadata": {},
     "output_type": "display_data"
    },
    {
     "data": {
      "text/plain": [
       "[[5729485, 'Gresham', 45.4982, -122.4315, 16.590000000000032, 62, 55, 0.68]]"
      ]
     },
     "metadata": {},
     "output_type": "display_data"
    },
    {
     "data": {
      "text/plain": [
       "[[1633034, 'Palu', -0.8917, 119.8707, 30.920000000000016, 69, 94, 2.05]]"
      ]
     },
     "metadata": {},
     "output_type": "display_data"
    },
    {
     "data": {
      "text/plain": [
       "[[4278890, 'Salina', 38.8403, -97.6114, 11.300000000000011, 87, 1, 2.06]]"
      ]
     },
     "metadata": {},
     "output_type": "display_data"
    },
    {
     "data": {
      "text/plain": [
       "[[3833883, 'Trelew', -43.249, -65.3051, 4.400000000000034, 51, 0, 2.95]]"
      ]
     },
     "metadata": {},
     "output_type": "display_data"
    },
    {
     "data": {
      "text/plain": [
       "[[4031637, 'Lavrentiya', 65.5833, -171, 2.0400000000000205, 83, 16, 3.46]]"
      ]
     },
     "metadata": {},
     "output_type": "display_data"
    },
    {
     "data": {
      "text/plain": [
       "[[3388847,\n",
       "  'São Félix do Xingu',\n",
       "  -6.6447,\n",
       "  -51.995,\n",
       "  20.510000000000048,\n",
       "  87,\n",
       "  0,\n",
       "  0.75]]"
      ]
     },
     "metadata": {},
     "output_type": "display_data"
    },
    {
     "data": {
      "text/plain": [
       "[[2026861,\n",
       "  'Berdigestyakh',\n",
       "  62.0989,\n",
       "  126.6992,\n",
       "  21.150000000000034,\n",
       "  34,\n",
       "  90,\n",
       "  4.09]]"
      ]
     },
     "metadata": {},
     "output_type": "display_data"
    },
    {
     "data": {
      "text/plain": [
       "[[2510573, 'Teguise', 29.0605, -13.564, 17.120000000000005, 82, 20, 6.22]]"
      ]
     },
     "metadata": {},
     "output_type": "display_data"
    },
    {
     "data": {
      "text/plain": [
       "[[3422683, 'Kangaatsiaq', 68.3065, -53.4641, 3.8799999999999955, 56, 5, 5.98]]"
      ]
     },
     "metadata": {},
     "output_type": "display_data"
    },
    {
     "data": {
      "text/plain": [
       "[[2065594, 'Mount Isa', -20.7333, 139.5, 25.870000000000005, 14, 0, 3.09]]"
      ]
     },
     "metadata": {},
     "output_type": "display_data"
    },
    {
     "data": {
      "text/plain": [
       "[[1706466, 'Ligayan', 4.6533, 119.4706, 29.470000000000027, 69, 81, 2.54]]"
      ]
     },
     "metadata": {},
     "output_type": "display_data"
    },
    {
     "data": {
      "text/plain": [
       "[[1214488, 'Meulaboh', 4.1363, 96.1285, 24.49000000000001, 95, 100, 2.05]]"
      ]
     },
     "metadata": {},
     "output_type": "display_data"
    },
    {
     "data": {
      "text/plain": [
       "[[1805334, 'Jinxiang', 27.4327, 120.6062, 21.460000000000036, 93, 100, 3.26]]"
      ]
     },
     "metadata": {},
     "output_type": "display_data"
    },
    {
     "data": {
      "text/plain": [
       "[[627904, 'Hrodna', 53.6884, 23.8258, 9.939999999999998, 87, 75, 4.76]]"
      ]
     },
     "metadata": {},
     "output_type": "display_data"
    },
    {
     "data": {
      "text/plain": [
       "[[2023333, 'Kachug', 53.9606, 105.8817, 8.480000000000018, 44, 100, 4.41]]"
      ]
     },
     "metadata": {},
     "output_type": "display_data"
    },
    {
     "data": {
      "text/plain": [
       "[[3836873, 'San Miguel de Tucumán', -26.8241, -65.2226, 13.0, 67, 75, 0.43]]"
      ]
     },
     "metadata": {},
     "output_type": "display_data"
    },
    {
     "data": {
      "text/plain": [
       "[[220448, 'Aketi', 2.7388, 23.7833, 21.640000000000043, 90, 85, 1.14]]"
      ]
     },
     "metadata": {},
     "output_type": "display_data"
    },
    {
     "data": {
      "text/plain": [
       "[[2108857, 'Gizo Government Station', -8.103, 156.8419, 27.25, 81, 99, 4.51]]"
      ]
     },
     "metadata": {},
     "output_type": "display_data"
    },
    {
     "data": {
      "text/plain": [
       "[[898947, 'Senanga', -16.1167, 23.2667, 9.5, 43, 1, 1.99]]"
      ]
     },
     "metadata": {},
     "output_type": "display_data"
    },
    {
     "data": {
      "text/plain": [
       "[[377472, 'Bentiu', 9.2333, 29.8333, 28.82000000000005, 50, 4, 4.03]]"
      ]
     },
     "metadata": {},
     "output_type": "display_data"
    },
    {
     "name": "stdout",
     "output_type": "stream",
     "text": [
      "Missing field/result... skipping.\n"
     ]
    },
    {
     "data": {
      "text/plain": [
       "[[3625929, 'Tucupita', 9.0622, -62.051, 22.460000000000036, 98, 87, 1.37]]"
      ]
     },
     "metadata": {},
     "output_type": "display_data"
    },
    {
     "name": "stdout",
     "output_type": "stream",
     "text": [
      "Missing field/result... skipping.\n"
     ]
    },
    {
     "data": {
      "text/plain": [
       "[[2169535, 'Dalby', -27.1833, 151.2667, 20.390000000000043, 38, 100, 4.16]]"
      ]
     },
     "metadata": {},
     "output_type": "display_data"
    },
    {
     "data": {
      "text/plain": [
       "[[336454, 'Ginir', 7.1333, 40.7, 16.260000000000048, 68, 7, 0.41]]"
      ]
     },
     "metadata": {},
     "output_type": "display_data"
    },
    {
     "data": {
      "text/plain": [
       "[[964712,\n",
       "  'Plettenberg Bay',\n",
       "  -34.0527,\n",
       "  23.3716,\n",
       "  13.090000000000032,\n",
       "  83,\n",
       "  100,\n",
       "  2.23]]"
      ]
     },
     "metadata": {},
     "output_type": "display_data"
    },
    {
     "data": {
      "text/plain": [
       "[[569591, 'Chekhov', 55.1431, 37.4711, 8.420000000000016, 85, 100, 5.39]]"
      ]
     },
     "metadata": {},
     "output_type": "display_data"
    },
    {
     "data": {
      "text/plain": [
       "[[3374083, 'Bathsheba', 13.2167, -59.5167, 27.340000000000032, 65, 40, 8.56]]"
      ]
     },
     "metadata": {},
     "output_type": "display_data"
    },
    {
     "data": {
      "text/plain": [
       "[[3453478, 'Pitanga', -24.7572, -51.7614, 15.220000000000027, 97, 65, 1.21]]"
      ]
     },
     "metadata": {},
     "output_type": "display_data"
    },
    {
     "name": "stdout",
     "output_type": "stream",
     "text": [
      "Missing field/result... skipping.\n"
     ]
    },
    {
     "data": {
      "text/plain": [
       "[[3407903, 'Almeirim', -1.5233, -52.5817, 24.49000000000001, 86, 93, 1.44]]"
      ]
     },
     "metadata": {},
     "output_type": "display_data"
    },
    {
     "name": "stdout",
     "output_type": "stream",
     "text": [
      "Missing field/result... skipping.\n"
     ]
    },
    {
     "data": {
      "text/plain": [
       "[[2191562, 'Dunedin', -45.8742, 170.5036, 11.0, 96, 100, 5.95]]"
      ]
     },
     "metadata": {},
     "output_type": "display_data"
    },
    {
     "data": {
      "text/plain": [
       "[[2189343, 'Kaeo', -35.1, 173.7833, 10.740000000000009, 89, 98, 5.13]]"
      ]
     },
     "metadata": {},
     "output_type": "display_data"
    },
    {
     "data": {
      "text/plain": [
       "[[1495385, 'Pelym', 61.0108, 61.9978, 17.689999999999998, 78, 98, 1.9]]"
      ]
     },
     "metadata": {},
     "output_type": "display_data"
    },
    {
     "data": {
      "text/plain": [
       "[[2686469, 'Örnsköldsvik', 63.2909, 18.7153, 11.53000000000003, 62, 7, 0.6]]"
      ]
     },
     "metadata": {},
     "output_type": "display_data"
    },
    {
     "data": {
      "text/plain": [
       "[[5882953, 'Aklavik', 68.2191, -135.0107, 2.1000000000000227, 61, 99, 2.84]]"
      ]
     },
     "metadata": {},
     "output_type": "display_data"
    },
    {
     "data": {
      "text/plain": [
       "[[2022454, 'Khingansk', 49.1167, 131.1833, 10.410000000000025, 92, 100, 1.86]]"
      ]
     },
     "metadata": {},
     "output_type": "display_data"
    },
    {
     "data": {
      "text/plain": [
       "[[463710, 'Zemetchino', 53.4973, 42.6163, 14.75, 92, 64, 5.02]]"
      ]
     },
     "metadata": {},
     "output_type": "display_data"
    },
    {
     "data": {
      "text/plain": [
       "[[1258847, 'Rajkot', 22.3, 70.7833, 32.98000000000002, 58, 100, 4.12]]"
      ]
     },
     "metadata": {},
     "output_type": "display_data"
    },
    {
     "data": {
      "text/plain": [
       "[[2644204, 'Livingston', 55.9029, -3.5226, 7.840000000000032, 98, 90, 0.71]]"
      ]
     },
     "metadata": {},
     "output_type": "display_data"
    },
    {
     "data": {
      "text/plain": [
       "[[1052944, 'Angoche', -16.2325, 39.9086, 21.99000000000001, 85, 4, 2.47]]"
      ]
     },
     "metadata": {},
     "output_type": "display_data"
    },
    {
     "data": {
      "text/plain": [
       "[[3359638, 'Walvis Bay', -22.9575, 14.5053, 8.53000000000003, 93, 38, 1.02]]"
      ]
     },
     "metadata": {},
     "output_type": "display_data"
    },
    {
     "data": {
      "text/plain": [
       "[[2167426, 'Emerald', -23.5333, 148.1667, 24.08000000000004, 23, 13, 4.12]]"
      ]
     },
     "metadata": {},
     "output_type": "display_data"
    },
    {
     "data": {
      "text/plain": [
       "[[3355672, 'Lüderitz', -26.6481, 15.1594, 15.0, 54, 54, 4.79]]"
      ]
     },
     "metadata": {},
     "output_type": "display_data"
    },
    {
     "data": {
      "text/plain": [
       "[[1500933, 'Labytnangi', 66.6572, 66.4183, 6.920000000000016, 45, 70, 3.82]]"
      ]
     },
     "metadata": {},
     "output_type": "display_data"
    },
    {
     "data": {
      "text/plain": [
       "[[3413604, 'Eyrarbakki', 63.863, -21.1481, 6.230000000000018, 94, 100, 14.65]]"
      ]
     },
     "metadata": {},
     "output_type": "display_data"
    },
    {
     "data": {
      "text/plain": [
       "[[4513583, 'Hamilton', 39.1834, -84.5333, 8.100000000000023, 78, 1, 0.89]]"
      ]
     },
     "metadata": {},
     "output_type": "display_data"
    },
    {
     "data": {
      "text/plain": [
       "[[1791464, 'Wenling', 28.3669, 121.36, 22.510000000000048, 88, 99, 2.21]]"
      ]
     },
     "metadata": {},
     "output_type": "display_data"
    },
    {
     "name": "stdout",
     "output_type": "stream",
     "text": [
      "Missing field/result... skipping.\n"
     ]
    },
    {
     "data": {
      "text/plain": [
       "[[2138285, 'Tadine', -21.55, 167.8833, 22.25, 58, 100, 6.05]]"
      ]
     },
     "metadata": {},
     "output_type": "display_data"
    },
    {
     "data": {
      "text/plain": [
       "[[1259012, 'Rāichūr', 16.2, 77.3667, 32.57000000000005, 42, 45, 4.28]]"
      ]
     },
     "metadata": {},
     "output_type": "display_data"
    },
    {
     "data": {
      "text/plain": [
       "[[1053384, 'Toamasina', -18.1667, 49.3833, 23.0, 83, 20, 1.54]]"
      ]
     },
     "metadata": {},
     "output_type": "display_data"
    },
    {
     "data": {
      "text/plain": [
       "[[3896774, 'Carahue', -38.7, -73.1667, 6.110000000000014, 85, 56, 1.04]]"
      ]
     },
     "metadata": {},
     "output_type": "display_data"
    },
    {
     "data": {
      "text/plain": [
       "[[330120, 'NEDJO', 9.5046, 35.5019, 18.840000000000032, 72, 27, 1.19]]"
      ]
     },
     "metadata": {},
     "output_type": "display_data"
    },
    {
     "data": {
      "text/plain": [
       "[[607610, 'Zhangaözen', 43.3, 52.8, 28.02000000000004, 32, 3, 2.35]]"
      ]
     },
     "metadata": {},
     "output_type": "display_data"
    },
    {
     "data": {
      "text/plain": [
       "[[1106643,\n",
       "  'Quatre Cocos',\n",
       "  -20.2078,\n",
       "  57.7625,\n",
       "  25.610000000000014,\n",
       "  74,\n",
       "  55,\n",
       "  4.07]]"
      ]
     },
     "metadata": {},
     "output_type": "display_data"
    },
    {
     "data": {
      "text/plain": [
       "[[3395981, 'Maceió', -9.6658, -35.7353, 22.689999999999998, 94, 75, 3.99]]"
      ]
     },
     "metadata": {},
     "output_type": "display_data"
    },
    {
     "data": {
      "text/plain": [
       "[[4500920, 'Brigantine', 39.4101, -74.3646, 10.180000000000007, 94, 90, 11.11]]"
      ]
     },
     "metadata": {},
     "output_type": "display_data"
    },
    {
     "data": {
      "text/plain": [
       "[[2396518, 'Port-Gentil', -0.7193, 8.7815, 26.090000000000032, 86, 85, 4.49]]"
      ]
     },
     "metadata": {},
     "output_type": "display_data"
    },
    {
     "data": {
      "text/plain": [
       "[[4169452, 'Punta Gorda', 26.9298, -82.0454, 23.430000000000007, 80, 1, 0]]"
      ]
     },
     "metadata": {},
     "output_type": "display_data"
    },
    {
     "data": {
      "text/plain": [
       "[[3163146, 'Andenes', 69.3143, 16.1194, 5.990000000000009, 87, 90, 5.14]]"
      ]
     },
     "metadata": {},
     "output_type": "display_data"
    },
    {
     "data": {
      "text/plain": [
       "[[915471, 'Kalabo', -14.97, 22.6814, 9.450000000000045, 40, 5, 1.88]]"
      ]
     },
     "metadata": {},
     "output_type": "display_data"
    },
    {
     "data": {
      "text/plain": [
       "[[4696233, 'Harlingen', 26.1906, -97.6961, 24.720000000000027, 74, 20, 2.06]]"
      ]
     },
     "metadata": {},
     "output_type": "display_data"
    },
    {
     "data": {
      "text/plain": [
       "[[1503726, 'Kharp', 66.8014, 65.8081, 6.0400000000000205, 46, 49, 3.43]]"
      ]
     },
     "metadata": {},
     "output_type": "display_data"
    },
    {
     "data": {
      "text/plain": [
       "[[3080538, 'Zawadzkie', 50.605, 18.4847, 9.680000000000007, 97, 96, 3.38]]"
      ]
     },
     "metadata": {},
     "output_type": "display_data"
    },
    {
     "data": {
      "text/plain": [
       "[[525426, 'Sobolevo', 54.4299, 31.8996, 8.689999999999998, 85, 100, 5.78]]"
      ]
     },
     "metadata": {},
     "output_type": "display_data"
    },
    {
     "data": {
      "text/plain": [
       "[[100926, 'Umluj', 25.0213, 37.2685, 30.340000000000032, 52, 93, 6.07]]"
      ]
     },
     "metadata": {},
     "output_type": "display_data"
    },
    {
     "data": {
      "text/plain": [
       "[[2510485, 'Tías', 28.9611, -13.645, 17.82000000000005, 82, 20, 4.12]]"
      ]
     },
     "metadata": {},
     "output_type": "display_data"
    },
    {
     "data": {
      "text/plain": [
       "[[2123628, 'Magadan', 59.5667, 150.8, 3.7800000000000296, 88, 100, 4.17]]"
      ]
     },
     "metadata": {},
     "output_type": "display_data"
    },
    {
     "data": {
      "text/plain": [
       "[[2645198, 'Kirkwall', 58.9848, -2.9587, 7.03000000000003, 100, 90, 2.57]]"
      ]
     },
     "metadata": {},
     "output_type": "display_data"
    },
    {
     "data": {
      "text/plain": [
       "[[2644210, 'Liverpool', 53.4106, -2.9779, 10.689999999999998, 84, 75, 0.45]]"
      ]
     },
     "metadata": {},
     "output_type": "display_data"
    },
    {
     "name": "stdout",
     "output_type": "stream",
     "text": [
      "Missing field/result... skipping.\n"
     ]
    },
    {
     "data": {
      "text/plain": [
       "[[3947740, 'Andahuaylas', -13.6556, -73.3872, 8.82000000000005, 89, 81, 1.05]]"
      ]
     },
     "metadata": {},
     "output_type": "display_data"
    },
    {
     "data": {
      "text/plain": [
       "[[5746545, 'Portland', 45.5234, -122.6762, 17.74000000000001, 56, 1, 1.18]]"
      ]
     },
     "metadata": {},
     "output_type": "display_data"
    },
    {
     "data": {
      "text/plain": [
       "[[2132606, 'Samarai', -10.6167, 150.6667, 26.110000000000014, 80, 100, 6.47]]"
      ]
     },
     "metadata": {},
     "output_type": "display_data"
    },
    {
     "data": {
      "text/plain": [
       "[[364933, 'Umm Kaddadah', 13.6017, 26.6876, 29.860000000000014, 15, 4, 4.93]]"
      ]
     },
     "metadata": {},
     "output_type": "display_data"
    },
    {
     "data": {
      "text/plain": [
       "[[3143513, 'Oppdal', 62.5943, 9.6912, 13.79000000000002, 53, 7, 1.06]]"
      ]
     },
     "metadata": {},
     "output_type": "display_data"
    },
    {
     "data": {
      "text/plain": [
       "[[2620786, 'Hanstholm', 57.1167, 8.6167, 10.330000000000041, 85, 2, 3.28]]"
      ]
     },
     "metadata": {},
     "output_type": "display_data"
    },
    {
     "data": {
      "text/plain": [
       "[[352733, 'Marsá Maţrūḩ', 31.3525, 27.2453, 23.060000000000002, 51, 7, 6.71]]"
      ]
     },
     "metadata": {},
     "output_type": "display_data"
    },
    {
     "data": {
      "text/plain": [
       "[[601551, 'Akdepe', 42.0551, 59.3788, 36.05000000000001, 11, 1, 9.12]]"
      ]
     },
     "metadata": {},
     "output_type": "display_data"
    },
    {
     "name": "stdout",
     "output_type": "stream",
     "text": [
      "Missing field/result... skipping.\n"
     ]
    },
    {
     "data": {
      "text/plain": [
       "[[5134295, 'Rome', 43.2128, -75.4557, 7.730000000000018, 84, 90, 2.57]]"
      ]
     },
     "metadata": {},
     "output_type": "display_data"
    },
    {
     "data": {
      "text/plain": [
       "[[1215502, 'Banda Aceh', 5.5577, 95.3222, 29.980000000000018, 65, 100, 5.48]]"
      ]
     },
     "metadata": {},
     "output_type": "display_data"
    },
    {
     "data": {
      "text/plain": [
       "[[3448011, 'Saquarema', -22.92, -42.5103, 22.710000000000036, 85, 41, 0.7]]"
      ]
     },
     "metadata": {},
     "output_type": "display_data"
    },
    {
     "data": {
      "text/plain": [
       "[[698740, 'Odesa', 46.4775, 30.7326, 16.960000000000036, 77, 0, 3]]"
      ]
     },
     "metadata": {},
     "output_type": "display_data"
    },
    {
     "data": {
      "text/plain": [
       "[[1517060, 'Zaysan', 47.4667, 84.8667, 23.57000000000005, 16, 0, 5.29]]"
      ]
     },
     "metadata": {},
     "output_type": "display_data"
    },
    {
     "data": {
      "text/plain": [
       "[[3573374, 'The Valley', 18.217, -63.0578, 26.900000000000034, 72, 22, 8.64]]"
      ]
     },
     "metadata": {},
     "output_type": "display_data"
    },
    {
     "data": {
      "text/plain": [
       "[[1810979, 'Fuling', 29.7022, 107.3919, 27.230000000000018, 59, 99, 1.21]]"
      ]
     },
     "metadata": {},
     "output_type": "display_data"
    },
    {
     "data": {
      "text/plain": [
       "[[1732738, 'Kota Tinggi', 1.7381, 103.8999, 33.650000000000034, 52, 64, 1.84]]"
      ]
     },
     "metadata": {},
     "output_type": "display_data"
    },
    {
     "data": {
      "text/plain": [
       "[[2090021, 'Namatanai', -3.6667, 152.4333, 28.629999999999995, 74, 60, 3.15]]"
      ]
     },
     "metadata": {},
     "output_type": "display_data"
    },
    {
     "data": {
      "text/plain": [
       "[[2012530, 'Zhigansk', 66.7697, 123.3711, 15.710000000000036, 28, 2, 3.89]]"
      ]
     },
     "metadata": {},
     "output_type": "display_data"
    },
    {
     "data": {
      "text/plain": [
       "[[466200, \"Yuryuzan'\", 54.8633, 58.4219, 25.760000000000048, 36, 63, 2.47]]"
      ]
     },
     "metadata": {},
     "output_type": "display_data"
    }
   ],
   "source": [
    "city_data = pd.DataFrame()\n",
    "\n",
    "for i in cities:\n",
    "    city_name = i\n",
    "    url = f\"http://api.openweathermap.org/data/2.5/weather?q={city_name}&appid={weather_api_key}\"\n",
    "    response = requests.get(url).json()\n",
    "    #print(json.dumps(response, indent=4, sort_keys=True))\n",
    "    try:\n",
    "        weather = [[response['id'],\n",
    "                    response['name'],\n",
    "                    response['coord']['lat'], \n",
    "                    response['coord']['lon'], \n",
    "                    response['main']['temp'] - 273.15, \n",
    "                    response['main']['humidity'], \n",
    "                    response['clouds']['all'], \n",
    "                    response['wind']['speed']]]\n",
    "        display(weather)\n",
    "        city_data = city_data.append(weather)\n",
    "\n",
    "    \n",
    "    except (KeyError, IndexError):\n",
    "        print(\"Missing field/result... skipping.\")\n",
    "\n",
    "#end for\n",
    "city_data.columns = ['City ID', 'City Name', 'Latitude', 'Longitude', 'Temperature', 'Humidity', 'Cloudiness', 'Wind Speed']\n",
    "city_data = city_data.reset_index(drop = True)\n",
    "\n",
    "\n",
    "\n",
    "\n"
   ]
  },
  {
   "cell_type": "markdown",
   "metadata": {},
   "source": [
    "### Convert Raw Data to DataFrame\n",
    "* Export the city data into a .csv.\n",
    "* Display the DataFrame"
   ]
  },
  {
   "cell_type": "code",
   "execution_count": 8,
   "metadata": {},
   "outputs": [],
   "source": [
    "city_data.to_csv(output_data_file)"
   ]
  },
  {
   "cell_type": "code",
   "execution_count": 9,
   "metadata": {
    "scrolled": true
   },
   "outputs": [
    {
     "data": {
      "text/plain": [
       "0     -21.2000\n",
       "1     -46.6000\n",
       "2     -33.0153\n",
       "3      50.6996\n",
       "4     -24.8667\n",
       "        ...   \n",
       "539    29.7022\n",
       "540     1.7381\n",
       "541    -3.6667\n",
       "542    66.7697\n",
       "543    54.8633\n",
       "Name: Latitude, Length: 544, dtype: float64"
      ]
     },
     "metadata": {},
     "output_type": "display_data"
    }
   ],
   "source": [
    "city_data = pd.DataFrame(city_data)\n",
    "display(city_data['Latitude'])"
   ]
  },
  {
   "cell_type": "markdown",
   "metadata": {},
   "source": [
    "## Plotting the Data\n",
    "* Use proper labeling of the plots using plot titles (including date of analysis) and axes labels.\n",
    "* Save the plotted figures as .pngs."
   ]
  },
  {
   "cell_type": "markdown",
   "metadata": {},
   "source": [
    "## Latitude vs. Temperature Plot"
   ]
  },
  {
   "cell_type": "code",
   "execution_count": 10,
   "metadata": {
    "scrolled": true
   },
   "outputs": [
    {
     "data": {
      "image/png": "[encoded data removed]",
      "text/plain": [
       "<Figure size 432x288 with 1 Axes>"
      ]
     },
     "metadata": {
      "needs_background": "light"
     },
     "output_type": "display_data"
    }
   ],
   "source": [
    "x_values = city_data['Latitude'] \n",
    "y_values = city_data['Temperature'] \n",
    "plt.scatter(x_values,y_values)\n",
    "plt.xlabel('Latitude')\n",
    "plt.ylabel('Temperature (F)')\n",
    "plt.title('City Latitude vs Temperature')\n",
    "plt.show()"
   ]
  },
  {
   "cell_type": "markdown",
   "metadata": {},
   "source": [
    "## Latitude vs. Humidity Plot"
   ]
  },
  {
   "cell_type": "code",
   "execution_count": 11,
   "metadata": {},
   "outputs": [
    {
     "data": {
      "image/png": "[encoded data removed]",
      "text/plain": [
       "<Figure size 432x288 with 1 Axes>"
      ]
     },
     "metadata": {
      "needs_background": "light"
     },
     "output_type": "display_data"
    }
   ],
   "source": [
    "x_values = city_data['Latitude'] \n",
    "y_values = city_data['Humidity'] \n",
    "plt.scatter(x_values,y_values)\n",
    "plt.xlabel('Latitude')\n",
    "plt.ylabel('Humidity(%)')\n",
    "plt.title('City Latitude vs Humidity')\n",
    "plt.show()"
   ]
  },
  {
   "cell_type": "markdown",
   "metadata": {},
   "source": [
    "## Latitude vs. Cloudiness Plot"
   ]
  },
  {
   "cell_type": "code",
   "execution_count": 12,
   "metadata": {},
   "outputs": [
    {
     "data": {
      "image/png": "[encoded data removed]",
      "text/plain": [
       "<Figure size 432x288 with 1 Axes>"
      ]
     },
     "metadata": {
      "needs_background": "light"
     },
     "output_type": "display_data"
    }
   ],
   "source": [
    "x_values = city_data['Cloudiness'] \n",
    "y_values = city_data['Humidity'] \n",
    "plt.scatter(x_values,y_values)\n",
    "plt.xlabel('Latitude')\n",
    "plt.ylabel('Cloudiness(%)')\n",
    "plt.title('City Latitude vs Cloudiness')\n",
    "plt.show()"
   ]
  },
  {
   "cell_type": "markdown",
   "metadata": {},
   "source": [
    "## Latitude vs. Wind Speed Plot"
   ]
  },
  {
   "cell_type": "code",
   "execution_count": 13,
   "metadata": {},
   "outputs": [
    {
     "data": {
      "image/png": "[encoded data removed]",
      "text/plain": [
       "<Figure size 432x288 with 1 Axes>"
      ]
     },
     "metadata": {
      "needs_background": "light"
     },
     "output_type": "display_data"
    }
   ],
   "source": [
    "x_values = city_data['Wind Speed'] \n",
    "y_values = city_data['Humidity'] \n",
    "plt.scatter(x_values,y_values)\n",
    "plt.xlabel('Latitude')\n",
    "plt.ylabel('Wind Speed (mph)')\n",
    "plt.title('City Latitude vs Wind Speed')\n",
    "plt.show()"
   ]
  },
  {
   "cell_type": "markdown",
   "metadata": {},
   "source": [
    "## Linear Regression"
   ]
  },
  {
   "cell_type": "code",
   "execution_count": 14,
   "metadata": {},
   "outputs": [],
   "source": [
    "north_city_data = city_data[city_data['Latitude'] > 0]\n",
    "south_city_data = city_data[city_data['Latitude'] < 0]"
   ]
  },
  {
   "cell_type": "markdown",
   "metadata": {},
   "source": [
    "####  Northern Hemisphere - Max Temp vs. Latitude Linear Regression"
   ]
  },
  {
   "cell_type": "code",
   "execution_count": 15,
   "metadata": {},
   "outputs": [
    {
     "data": {
      "image/png": "[encoded data removed]",
      "text/plain": [
       "<Figure size 432x288 with 1 Axes>"
      ]
     },
     "metadata": {
      "needs_background": "light"
     },
     "output_type": "display_data"
    }
   ],
   "source": [
    "x_values = north_city_data['Latitude'] \n",
    "y_values = north_city_data['Temperature'] \n",
    "(slope, intercept, rvalue, pvalue, stderr) = linregress(x_values, y_values)\n",
    "regress_values = x_values * slope + intercept\n",
    "line_eq = \"y = \" + str(round(slope,2)) + \"x + \" + str(round(intercept,2))\n",
    "plt.scatter(x_values,y_values)\n",
    "plt.plot(x_values,regress_values,\"r-\")\n",
    "plt.annotate(line_eq,(6,10),fontsize=15,color=\"red\")\n",
    "plt.xlabel('Latitude')\n",
    "plt.ylabel('Temperature (F)')\n",
    "plt.title('Northern Hemispheric City Latitude vs Temperature')\n",
    "plt.show()"
   ]
  },
  {
   "cell_type": "markdown",
   "metadata": {},
   "source": [
    "####  Southern Hemisphere - Max Temp vs. Latitude Linear Regression"
   ]
  },
  {
   "cell_type": "code",
   "execution_count": 16,
   "metadata": {},
   "outputs": [
    {
     "data": {
      "image/png": "[encoded data removed]",
      "text/plain": [
       "<Figure size 432x288 with 1 Axes>"
      ]
     },
     "metadata": {
      "needs_background": "light"
     },
     "output_type": "display_data"
    }
   ],
   "source": [
    "x_values = south_city_data ['Latitude'] \n",
    "y_values = south_city_data ['Temperature'] \n",
    "(slope, intercept, rvalue, pvalue, stderr) = linregress(x_values, y_values)\n",
    "regress_values = x_values * slope + intercept\n",
    "line_eq = \"y = \" + str(round(slope,2)) + \"x + \" + str(round(intercept,2))\n",
    "plt.scatter(x_values,y_values)\n",
    "plt.plot(x_values,regress_values,\"r-\")\n",
    "plt.annotate(line_eq,(-30,5),fontsize=15,color=\"red\")\n",
    "plt.xlabel('Latitude')\n",
    "plt.ylabel('Temperature (F)')\n",
    "plt.title('Southern Hemispheric City Latitude vs Temperature')\n",
    "plt.show()"
   ]
  },
  {
   "cell_type": "markdown",
   "metadata": {},
   "source": [
    "####  Northern Hemisphere - Humidity (%) vs. Latitude Linear Regression"
   ]
  },
  {
   "cell_type": "code",
   "execution_count": 17,
   "metadata": {},
   "outputs": [
    {
     "data": {
      "image/png": "[encoded data removed]",
      "text/plain": [
       "<Figure size 432x288 with 1 Axes>"
      ]
     },
     "metadata": {
      "needs_background": "light"
     },
     "output_type": "display_data"
    }
   ],
   "source": [
    "x_values = north_city_data['Latitude'] \n",
    "y_values = north_city_data['Humidity'] \n",
    "(slope, intercept, rvalue, pvalue, stderr) = linregress(x_values, y_values)\n",
    "regress_values = x_values * slope + intercept\n",
    "line_eq = \"y = \" + str(round(slope,2)) + \"x + \" + str(round(intercept,2))\n",
    "plt.scatter(x_values,y_values)\n",
    "plt.plot(x_values,regress_values,\"r-\")\n",
    "plt.annotate(line_eq,(6,10),fontsize=15,color=\"red\")\n",
    "plt.xlabel('Latitude')\n",
    "plt.ylabel('Humidity(%)')\n",
    "plt.title('Northern Hemispheric City Latitude vs Humidity')\n",
    "plt.show()"
   ]
  },
  {
   "cell_type": "markdown",
   "metadata": {},
   "source": [
    "####  Southern Hemisphere - Humidity (%) vs. Latitude Linear Regression"
   ]
  },
  {
   "cell_type": "code",
   "execution_count": 18,
   "metadata": {},
   "outputs": [
    {
     "data": {
      "image/png": "[encoded data removed]",
      "text/plain": [
       "<Figure size 432x288 with 1 Axes>"
      ]
     },
     "metadata": {
      "needs_background": "light"
     },
     "output_type": "display_data"
    }
   ],
   "source": [
    "x_values = south_city_data['Latitude'] \n",
    "y_values = south_city_data['Humidity'] \n",
    "(slope, intercept, rvalue, pvalue, stderr) = linregress(x_values, y_values)\n",
    "regress_values = x_values * slope + intercept\n",
    "line_eq = \"y = \" + str(round(slope,2)) + \"x + \" + str(round(intercept,2))\n",
    "plt.scatter(x_values,y_values)\n",
    "plt.plot(x_values,regress_values,\"r-\")\n",
    "plt.annotate(line_eq,(-30,30),fontsize=15,color=\"red\")\n",
    "plt.xlabel('Latitude')\n",
    "plt.ylabel('Humidity(%)')\n",
    "plt.title('Southern Hemispheric City Latitude vs Humidity')\n",
    "plt.show()"
   ]
  },
  {
   "cell_type": "markdown",
   "metadata": {},
   "source": [
    "####  Northern Hemisphere - Cloudiness (%) vs. Latitude Linear Regression"
   ]
  },
  {
   "cell_type": "code",
   "execution_count": 19,
   "metadata": {},
   "outputs": [
    {
     "data": {
      "image/png": "[encoded data removed]",
      "text/plain": [
       "<Figure size 432x288 with 1 Axes>"
      ]
     },
     "metadata": {
      "needs_background": "light"
     },
     "output_type": "display_data"
    }
   ],
   "source": [
    "x_values = north_city_data['Latitude'] \n",
    "y_values = north_city_data['Humidity'] \n",
    "(slope, intercept, rvalue, pvalue, stderr) = linregress(x_values, y_values)\n",
    "regress_values = x_values * slope + intercept\n",
    "line_eq = \"y = \" + str(round(slope,2)) + \"x + \" + str(round(intercept,2))\n",
    "plt.scatter(x_values,y_values)\n",
    "plt.plot(x_values,regress_values,\"r-\")\n",
    "plt.annotate(line_eq,(6,10),fontsize=15,color=\"red\")\n",
    "plt.xlabel('Latitude')\n",
    "plt.ylabel('Cloudiness(%)')\n",
    "plt.title('Northern Hemispheric City Latitude vs Cloudiness')\n",
    "plt.show()"
   ]
  },
  {
   "cell_type": "markdown",
   "metadata": {},
   "source": [
    "####  Southern Hemisphere - Cloudiness (%) vs. Latitude Linear Regression"
   ]
  },
  {
   "cell_type": "code",
   "execution_count": 20,
   "metadata": {},
   "outputs": [
    {
     "data": {
      "image/png": "[encoded data removed]",
      "text/plain": [
       "<Figure size 432x288 with 1 Axes>"
      ]
     },
     "metadata": {
      "needs_background": "light"
     },
     "output_type": "display_data"
    }
   ],
   "source": [
    "x_values = south_city_data['Latitude'] \n",
    "y_values = south_city_data['Humidity'] \n",
    "(slope, intercept, rvalue, pvalue, stderr) = linregress(x_values, y_values)\n",
    "regress_values = x_values * slope + intercept\n",
    "line_eq = \"y = \" + str(round(slope,2)) + \"x + \" + str(round(intercept,2))\n",
    "plt.scatter(x_values,y_values)\n",
    "plt.plot(x_values,regress_values,\"r-\")\n",
    "plt.annotate(line_eq,(-50,30),fontsize=15,color=\"red\")\n",
    "plt.xlabel('Latitude')\n",
    "plt.ylabel('Cloudiness(%)')\n",
    "plt.title('Southern Hemispheric City Latitude vs Cloudiness')\n",
    "plt.show()"
   ]
  },
  {
   "cell_type": "markdown",
   "metadata": {},
   "source": [
    "####  Northern Hemisphere - Wind Speed (mph) vs. Latitude Linear Regression"
   ]
  },
  {
   "cell_type": "code",
   "execution_count": 21,
   "metadata": {},
   "outputs": [
    {
     "data": {
      "image/png": "[encoded data removed]",
      "text/plain": [
       "<Figure size 432x288 with 1 Axes>"
      ]
     },
     "metadata": {
      "needs_background": "light"
     },
     "output_type": "display_data"
    }
   ],
   "source": [
    "x_values = north_city_data['Latitude'] \n",
    "y_values = north_city_data['Humidity'] \n",
    "(slope, intercept, rvalue, pvalue, stderr) = linregress(x_values, y_values)\n",
    "regress_values = x_values * slope + intercept\n",
    "line_eq = \"y = \" + str(round(slope,2)) + \"x + \" + str(round(intercept,2))\n",
    "plt.scatter(x_values,y_values)\n",
    "plt.plot(x_values,regress_values,\"r-\")\n",
    "plt.annotate(line_eq,(6,10),fontsize=15,color=\"red\")\n",
    "plt.xlabel('Latitude')\n",
    "plt.ylabel('Wind Speed (mph)')\n",
    "plt.title('Northern Hemispheric City Latitude vs Wind Speed')\n",
    "plt.show()"
   ]
  },
  {
   "cell_type": "markdown",
   "metadata": {},
   "source": [
    "####  Southern Hemisphere - Wind Speed (mph) vs. Latitude Linear Regression"
   ]
  },
  {
   "cell_type": "code",
   "execution_count": 22,
   "metadata": {},
   "outputs": [
    {
     "data": {
      "image/png": "[encoded data removed]",
      "text/plain": [
       "<Figure size 432x288 with 1 Axes>"
      ]
     },
     "metadata": {
      "needs_background": "light"
     },
     "output_type": "display_data"
    }
   ],
   "source": [
    "x_values = south_city_data['Latitude'] \n",
    "y_values = south_city_data['Humidity'] \n",
    "(slope, intercept, rvalue, pvalue, stderr) = linregress(x_values, y_values)\n",
    "regress_values = x_values * slope + intercept\n",
    "line_eq = \"y = \" + str(round(slope,2)) + \"x + \" + str(round(intercept,2))\n",
    "plt.scatter(x_values,y_values)\n",
    "plt.plot(x_values,regress_values,\"r-\")\n",
    "plt.annotate(line_eq,(-30,30),fontsize=15,color=\"red\")\n",
    "plt.xlabel('Latitude')\n",
    "plt.ylabel('Wind Speed (mph)')\n",
    "plt.title('Southern Hemispheric City Latitude vs Wind Speed')\n",
    "plt.show()"
   ]
  },
  {
   "cell_type": "code",
   "execution_count": null,
   "metadata": {},
   "outputs": [],
   "source": []
  }
 ],
 "metadata": {
  "anaconda-cloud": {},
  "kernel_info": {
   "name": "python3"
  },
  "kernelspec": {
   "display_name": "Python 3",
   "language": "python",
   "name": "python3"
  },
  "language_info": {
   "codemirror_mode": {
    "name": "ipython",
    "version": 3
   },
   "file_extension": ".py",
   "mimetype": "text/x-python",
   "name": "python",
   "nbconvert_exporter": "python",
   "pygments_lexer": "ipython3",
   "version": "3.6.10"
  },
  "latex_envs": {
   "LaTeX_envs_menu_present": true,
   "autoclose": false,
   "autocomplete": true,
   "bibliofile": "biblio.bib",
   "cite_by": "apalike",
   "current_citInitial": 1,
   "eqLabelWithNumbers": true,
   "eqNumInitial": 1,
   "hotkeys": {
    "equation": "Ctrl-E",
    "itemize": "Ctrl-I"
   },
   "labels_anchors": false,
   "latex_user_defs": false,
   "report_style_numbering": false,
   "user_envs_cfg": false
  },
  "nteract": {
   "version": "0.12.3"
  }
 },
 "nbformat": 4,
 "nbformat_minor": 2
}
